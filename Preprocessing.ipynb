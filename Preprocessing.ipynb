{
 "cells": [
  {
   "cell_type": "code",
   "execution_count": 2,
   "metadata": {},
   "outputs": [],
   "source": [
    "import uproot\n",
    "import pandas as pd\n",
    "import gc"
   ]
  },
  {
   "cell_type": "code",
   "execution_count": 3,
   "metadata": {},
   "outputs": [
    {
     "name": "stdout",
     "output_type": "stream",
     "text": [
      "name                 | typename                 | interpretation                \n",
      "---------------------+--------------------------+-------------------------------\n",
      "evN                  | int32_t                  | AsDtype('>i4')\n",
      "lmiBl                | int32_t                  | AsDtype('>i4')\n",
      "mu                   | float                    | AsDtype('>f4')\n",
      "timestamp            | uint32_t                 | AsDtype('>u4')\n",
      "bcid                 | uint32_t                 | AsDtype('>u4')\n",
      "hits                 | int32_t[4][4]            | AsDtype(\"('>i4', (4, 4))\")\n",
      "hits_row             | int32_t[4][4][100]       | AsDtype(\"('>i4', (4, 4, 100...\n",
      "hits_col             | int32_t[4][4][100]       | AsDtype(\"('>i4', (4, 4, 100...\n",
      "hits_q               | float[4][4][100]         | AsDtype(\"('>f4', (4, 4, 100...\n"
     ]
    },
    {
     "name": "stderr",
     "output_type": "stream",
     "text": [
      "/home/janusz/anaconda3/envs/ml_keras/lib/python3.9/site-packages/uproot/interpretation/library.py:806: PerformanceWarning: DataFrame is highly fragmented.  This is usually the result of calling `frame.insert` many times, which has poor performance.  Consider joining all columns at once using pd.concat(axis=1) instead.  To get a de-fragmented frame, use `newframe = frame.copy()`\n",
      "  out[name] = series[name]\n"
     ]
    },
    {
     "data": {
      "text/html": [
       "<div>\n",
       "<style scoped>\n",
       "    .dataframe tbody tr th:only-of-type {\n",
       "        vertical-align: middle;\n",
       "    }\n",
       "\n",
       "    .dataframe tbody tr th {\n",
       "        vertical-align: top;\n",
       "    }\n",
       "\n",
       "    .dataframe thead th {\n",
       "        text-align: right;\n",
       "    }\n",
       "</style>\n",
       "<table border=\"1\" class=\"dataframe\">\n",
       "  <thead>\n",
       "    <tr style=\"text-align: right;\">\n",
       "      <th></th>\n",
       "      <th>timestamp</th>\n",
       "      <th>bcid</th>\n",
       "      <th>lmiBl</th>\n",
       "      <th>mu</th>\n",
       "      <th>left_hits_n</th>\n",
       "      <th>right_hits_n</th>\n",
       "      <th>left_hit_row</th>\n",
       "      <th>right_hit_row</th>\n",
       "      <th>left_hit_column</th>\n",
       "      <th>right_hit_column</th>\n",
       "    </tr>\n",
       "  </thead>\n",
       "  <tbody>\n",
       "    <tr>\n",
       "      <th>0</th>\n",
       "      <td>1511286284</td>\n",
       "      <td>2801</td>\n",
       "      <td>157</td>\n",
       "      <td>2.327614</td>\n",
       "      <td>0</td>\n",
       "      <td>13</td>\n",
       "      <td>-5.383514e+08</td>\n",
       "      <td>6.127666e+07</td>\n",
       "      <td>-3.751467e+08</td>\n",
       "      <td>7.680988e+08</td>\n",
       "    </tr>\n",
       "    <tr>\n",
       "      <th>1</th>\n",
       "      <td>1511286290</td>\n",
       "      <td>2180</td>\n",
       "      <td>157</td>\n",
       "      <td>1.908377</td>\n",
       "      <td>0</td>\n",
       "      <td>11</td>\n",
       "      <td>-5.383514e+08</td>\n",
       "      <td>6.062978e+07</td>\n",
       "      <td>-3.746810e+08</td>\n",
       "      <td>7.680988e+08</td>\n",
       "    </tr>\n",
       "    <tr>\n",
       "      <th>2</th>\n",
       "      <td>1511286291</td>\n",
       "      <td>2357</td>\n",
       "      <td>157</td>\n",
       "      <td>1.598215</td>\n",
       "      <td>16</td>\n",
       "      <td>1</td>\n",
       "      <td>-5.352135e+08</td>\n",
       "      <td>6.061985e+07</td>\n",
       "      <td>-3.766279e+08</td>\n",
       "      <td>7.680988e+08</td>\n",
       "    </tr>\n",
       "    <tr>\n",
       "      <th>3</th>\n",
       "      <td>1511286301</td>\n",
       "      <td>3161</td>\n",
       "      <td>157</td>\n",
       "      <td>1.757314</td>\n",
       "      <td>0</td>\n",
       "      <td>10</td>\n",
       "      <td>-5.383514e+08</td>\n",
       "      <td>6.126405e+07</td>\n",
       "      <td>-3.751468e+08</td>\n",
       "      <td>7.680988e+08</td>\n",
       "    </tr>\n",
       "    <tr>\n",
       "      <th>4</th>\n",
       "      <td>1511286304</td>\n",
       "      <td>2215</td>\n",
       "      <td>157</td>\n",
       "      <td>2.355958</td>\n",
       "      <td>0</td>\n",
       "      <td>11</td>\n",
       "      <td>-5.383514e+08</td>\n",
       "      <td>6.061997e+07</td>\n",
       "      <td>-3.752630e+08</td>\n",
       "      <td>7.680988e+08</td>\n",
       "    </tr>\n",
       "  </tbody>\n",
       "</table>\n",
       "</div>"
      ],
      "text/plain": [
       "    timestamp  bcid  lmiBl        mu  left_hits_n  right_hits_n  left_hit_row  \\\n",
       "0  1511286284  2801    157  2.327614            0            13 -5.383514e+08   \n",
       "1  1511286290  2180    157  1.908377            0            11 -5.383514e+08   \n",
       "2  1511286291  2357    157  1.598215           16             1 -5.352135e+08   \n",
       "3  1511286301  3161    157  1.757314            0            10 -5.383514e+08   \n",
       "4  1511286304  2215    157  2.355958            0            11 -5.383514e+08   \n",
       "\n",
       "   right_hit_row  left_hit_column  right_hit_column  \n",
       "0   6.127666e+07    -3.751467e+08      7.680988e+08  \n",
       "1   6.062978e+07    -3.746810e+08      7.680988e+08  \n",
       "2   6.061985e+07    -3.766279e+08      7.680988e+08  \n",
       "3   6.126405e+07    -3.751468e+08      7.680988e+08  \n",
       "4   6.061997e+07    -3.752630e+08      7.680988e+08  "
      ]
     },
     "execution_count": 3,
     "metadata": {},
     "output_type": "execute_result"
    }
   ],
   "source": [
    "ROOT_INPUT_PATH = 'input_root/341294_afp_hits.root'\n",
    "\n",
    "file = uproot.open(ROOT_INPUT_PATH)\n",
    "tree = file['TreeHits']\n",
    "tree.show()\n",
    "dataset_t = tree.arrays(['hits','hits_row', 'hits_col', 'hits_q', 'timestamp', 'bcid', 'lmiBl', 'mu'], library='pd', entry_stop = None)\n",
    "dataset = dataset_t.copy()\n",
    "del dataset_t\n",
    "gc.collect()\n",
    "dataset.head()\n",
    "\n",
    "\n",
    "# number of hits\n",
    "dataset['left_hits_n'] = dataset.filter(regex='^hits\\\\[[01]',axis=1).sum(axis=1)\n",
    "dataset['right_hits_n'] = dataset.filter(regex='^hits\\\\[[23]',axis=1).sum(axis=1)\n",
    "dataset.drop(dataset.filter(regex='^hits\\\\[',axis=1), axis=1, inplace=True)\n",
    "\n",
    "#average coordinates\n",
    "weights_left = dataset.filter(regex='^hits_q\\\\[[01]',axis=1).where(dataset.filter(regex='^hits_q\\[',axis=1) > 0.0, 0)\n",
    "weights_right = dataset.filter(regex='^hits_q\\\\[[23]',axis=1).where(dataset.filter(regex='^hits_q\\[',axis=1) > 0.0, 0)\n",
    "dataset.drop(dataset.filter(regex='^hits_q',axis=1), axis=1, inplace=True)\n",
    "\n",
    "rows_left = dataset.filter(regex='^hits_row\\\\[[01]',axis=1)\n",
    "rows_right = dataset.filter(regex='^hits_row\\\\[[23]',axis=1)\n",
    "dataset.drop(dataset.filter(regex='^hits_row',axis=1), axis=1, inplace=True)\n",
    "dataset['left_hit_row'] = (rows_left * weights_left.values).sum(axis=1) / weights_left.sum(axis = 1)\n",
    "dataset['right_hit_row'] = (rows_right * weights_right.values).sum(axis=1) / weights_right.sum(axis = 1)\n",
    "del [rows_left, rows_right]\n",
    "gc.collect()\n",
    "\n",
    "columns_left = dataset.filter(regex='^hits_col\\\\[[01]',axis=1)\n",
    "columns_right = dataset.filter(regex='^hits_col\\\\[[23]',axis=1)\n",
    "dataset.drop(dataset.filter(regex='^hits_col',axis=1), axis=1, inplace=True)\n",
    "dataset['left_hit_column'] = (columns_left * weights_left.values).sum(axis=1) / weights_left.sum(axis = 1)\n",
    "dataset['right_hit_column'] = (columns_right * weights_right.values).sum(axis=1) / weights_right.sum(axis = 1)\n",
    "del [columns_left, columns_right]\n",
    "del [weights_left, weights_right]\n",
    "gc.collect()\n",
    "\n",
    "dataset.head()\n"
   ]
  },
  {
   "cell_type": "code",
   "execution_count": null,
   "metadata": {},
   "outputs": [],
   "source": [
    "# normalization - temporary as different cell as it is not optimal solution\n",
    "buffor = dataset.drop(['right_hits_n', 'right_hit_row', 'right_hit_column'])\n",
    "buffor.rename(columns={'right_hits_n': 'hits_n', 'right_hit_row': 'hit_row', 'right_hit_column': 'hit_column'}, inplace = True)\n",
    "\n",
    "dataset.drop(['left_hits_n', 'left_hit_row', 'left_hit_column'], inplace = True)\n",
    "dataset = dataset.rename(columns={'left_hits_n': 'hits_n', 'left_hit_row': 'hit_row', 'left_hit_column': 'hit_column'}, inplace = True)\n"
   ]
  },
  {
   "cell_type": "code",
   "execution_count": 7,
   "metadata": {},
   "outputs": [
    {
     "name": "stdout",
     "output_type": "stream",
     "text": [
      "        timestamp  bcid  lmiBl  ...  right_hit_row  left_hit_column  \\\n",
      "0      1511286284  2801    157  ...   6.127666e+07    -3.751467e+08   \n",
      "1      1511286290  2180    157  ...   6.062978e+07    -3.746810e+08   \n",
      "2      1511286291  2357    157  ...   6.061985e+07    -3.766279e+08   \n",
      "3      1511286301  3161    157  ...   6.126405e+07    -3.751468e+08   \n",
      "4      1511286304  2215    157  ...   6.061997e+07    -3.752630e+08   \n",
      "...           ...   ...    ...  ...            ...              ...   \n",
      "18692  1511290367   389    226  ...   5.222989e+05    -9.151355e+08   \n",
      "18693  1511290734   991    232  ...   5.221842e+05    -9.151355e+08   \n",
      "18694  1511290820  1394    234  ...   5.221842e+05    -9.151355e+08   \n",
      "18695  1511291383  1356    243  ...   4.871078e+05    -9.151355e+08   \n",
      "18696  1511291522   110    245  ...   4.871078e+05    -9.151355e+08   \n",
      "\n",
      "       right_hit_column  \n",
      "0          7.680988e+08  \n",
      "1          7.680988e+08  \n",
      "2          7.680988e+08  \n",
      "3          7.680988e+08  \n",
      "4          7.680988e+08  \n",
      "...                 ...  \n",
      "18692      2.785571e+07  \n",
      "18693      2.785571e+07  \n",
      "18694      2.785571e+07  \n",
      "18695      2.785571e+07  \n",
      "18696      2.785571e+07  \n",
      "\n",
      "[18697 rows x 10 columns]\n"
     ]
    }
   ],
   "source": [
    "print(dataset)"
   ]
  },
  {
   "cell_type": "code",
   "execution_count": 8,
   "metadata": {},
   "outputs": [
    {
     "name": "stderr",
     "output_type": "stream",
     "text": [
      "/home/janusz/anaconda3/envs/ml_keras/lib/python3.9/site-packages/uproot/interpretation/library.py:806: PerformanceWarning: DataFrame is highly fragmented.  This is usually the result of calling `frame.insert` many times, which has poor performance.  Consider joining all columns at once using pd.concat(axis=1) instead.  To get a de-fragmented frame, use `newframe = frame.copy()`\n",
      "  out[name] = series[name]\n"
     ]
    },
    {
     "name": "stdout",
     "output_type": "stream",
     "text": [
      "        timestamp  bcid  lmiBl  ...  right_hit_row  left_hit_column  \\\n",
      "0      1511286284  2801    157  ...   6.127666e+07    -3.751467e+08   \n",
      "1      1511286290  2180    157  ...   6.062978e+07    -3.746810e+08   \n",
      "2      1511286291  2357    157  ...   6.061985e+07    -3.766279e+08   \n",
      "3      1511286301  3161    157  ...   6.126405e+07    -3.751468e+08   \n",
      "4      1511286304  2215    157  ...   6.061997e+07    -3.752630e+08   \n",
      "...           ...   ...    ...  ...            ...              ...   \n",
      "18692  1511290367   389    226  ...   5.222989e+05    -9.151355e+08   \n",
      "18693  1511290734   991    232  ...   5.221842e+05    -9.151355e+08   \n",
      "18694  1511290820  1394    234  ...   5.221842e+05    -9.151355e+08   \n",
      "18695  1511291383  1356    243  ...   4.871078e+05    -9.151355e+08   \n",
      "18696  1511291522   110    245  ...   4.871078e+05    -9.151355e+08   \n",
      "\n",
      "       right_hit_column  \n",
      "0          7.680988e+08  \n",
      "1          7.680988e+08  \n",
      "2          7.680988e+08  \n",
      "3          7.680988e+08  \n",
      "4          7.680988e+08  \n",
      "...                 ...  \n",
      "18692      2.785571e+07  \n",
      "18693      2.785571e+07  \n",
      "18694      2.785571e+07  \n",
      "18695      2.785571e+07  \n",
      "18696      2.785571e+07  \n",
      "\n",
      "[18697 rows x 10 columns]\n"
     ]
    }
   ],
   "source": [
    "preview = tree.arrays(['hits_q'], library='pd', entry_stop = 1000)\n",
    "pd.set_option('display.max_rows', 1000, 'display.max_columns', 6)\n",
    "print(preview)"
   ]
  }
 ],
 "metadata": {
  "interpreter": {
   "hash": "d50d1059df50be24469893122e9a291b33cd9542d0b4669eb32d1d66d81d49d7"
  },
  "kernelspec": {
   "display_name": "Python 3.9.5 64-bit ('ml_keras': conda)",
   "language": "python",
   "name": "python3"
  },
  "language_info": {
   "codemirror_mode": {
    "name": "ipython",
    "version": 3
   },
   "file_extension": ".py",
   "mimetype": "text/x-python",
   "name": "python",
   "nbconvert_exporter": "python",
   "pygments_lexer": "ipython3",
   "version": "3.9.7"
  },
  "orig_nbformat": 4
 },
 "nbformat": 4,
 "nbformat_minor": 2
}
