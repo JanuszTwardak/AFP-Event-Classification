{
  "nbformat": 4,
  "nbformat_minor": 0,
  "metadata": {
    "colab": {
      "name": "Root-to-numpy-conversion.ipynb",
      "provenance": [],
      "authorship_tag": "ABX9TyNemKxJT0U2ZnldL6F1+FVn",
      "include_colab_link": true
    },
    "kernelspec": {
      "display_name": "Python 3",
      "name": "python3"
    },
    "language_info": {
      "name": "python"
    }
  },
  "cells": [
    {
      "cell_type": "markdown",
      "metadata": {
        "id": "view-in-github",
        "colab_type": "text"
      },
      "source": [
        "<a href=\"https://colab.research.google.com/github/JanuszTwardak/AFP-Event-Classification/blob/master/Root_to_numpy_conversion.ipynb\" target=\"_parent\"><img src=\"https://colab.research.google.com/assets/colab-badge.svg\" alt=\"Open In Colab\"/></a>"
      ]
    },
    {
      "cell_type": "code",
      "metadata": {
        "id": "PkgMZFRurOZ-"
      },
      "source": [
        "from google.colab import drive\n",
        "drive.mount('/content/drive')\n",
        "\n",
        "!wget https://github.com/MohamedElashri/HEP-ML/releases/download/ROOT/ROOT.tar.zip\n",
        "!unzip /content/ROOT.tar.zip\n",
        "!tar -xf  ROOT.tar\n",
        "!apt-get install git dpkg-dev cmake g++ gcc binutils libx11-dev libxpm-dev libxft-dev libxext-dev tar gfortran subversion\n",
        "!pip install root_numpy # optional if you want to convert Trees to numpy arrays and other things like that"
      ],
      "execution_count": null,
      "outputs": []
    },
    {
      "cell_type": "code",
      "metadata": {
        "colab": {
          "base_uri": "https://localhost:8080/"
        },
        "id": "WNSK0KX0VJrQ",
        "outputId": "83bbed09-bfd5-4205-a3d4-d31a9847ce10"
      },
      "source": [
        "import sys\n",
        "sys.path.append(\"/content/root_build/\")\n",
        "sys.path.append(\"/content/root_build/bin/\")\n",
        "sys.path.append(\"/content/root_build/include/\")\n",
        "sys.path.append(\"/content/root_build/lib/\")\n",
        "import ctypes\n",
        "ctypes.cdll.LoadLibrary('/content/root_build/lib//libCore.so')\n",
        "ctypes.cdll.LoadLibrary('/content/root_build/lib//libThread.so')\n",
        "ctypes.cdll.LoadLibrary('/content/root_build/lib//libTreePlayer.so')\n",
        "\n",
        "import ROOT\n",
        "import numpy as np\n",
        "!pip install root_numpy\n",
        "\n",
        "from root_numpy import tree2array"
      ],
      "execution_count": null,
      "outputs": [
        {
          "name": "stdout",
          "output_type": "stream",
          "text": [
            "Welcome to JupyROOT 6.14/04\n",
            "Requirement already satisfied: root_numpy in /usr/local/lib/python3.7/dist-packages (4.8.0)\n"
          ]
        }
      ]
    },
    {
      "cell_type": "code",
      "metadata": {
        "id": "uXLszWUPahUa"
      },
      "source": [
        "import time\n",
        "def root_to_numpy(input_path, save_array, branches, selection):\n",
        "\n",
        "  f = ROOT.TFile.Open(\"drive/MyDrive/AFP-ML/input.root\")\n",
        "  tree = f.Get(\"TreeHits\")\n",
        "  print(tree)\n",
        "\n",
        "  if branches == \"all\":\n",
        "    array = tree2array(tree)\n",
        "  else:\n",
        "    array = tree2array(tree, branches=branches, selection=selection)\n",
        "\n",
        "  print(\"SUKCES, POZOSTALO ZAPISAC\")\n",
        "  if save_array:\n",
        "    output_path = time.strftime(\"output_%d-%m-%Y_%H-%M-%S.npy\")\n",
        "    np.save(output_path, array)"
      ],
      "execution_count": null,
      "outputs": []
    },
    {
      "cell_type": "code",
      "metadata": {
        "colab": {
          "base_uri": "https://localhost:8080/"
        },
        "id": "a4F2CGDsVDG9",
        "outputId": "7b922a59-8c38-4912-97cd-9d753b33825a"
      },
      "source": [
        "  f = ROOT.TFile.Open(\"drive/MyDrive/AFP-ML/input.root\")\n",
        "  tree = f.Get(\"TreeHits\")\n",
        "  tree.Print()"
      ],
      "execution_count": null,
      "outputs": [
        {
          "name": "stdout",
          "output_type": "stream",
          "text": [
            "******************************************************************************\n",
            "*Tree    :TreeHits  : TreeHits                                               *\n",
            "*Entries :   340469 : Total =     22746926310 bytes  File  Size =  138381371 *\n",
            "*        :          : Tree compression factor = 165.25                       *\n",
            "******************************************************************************\n",
            "*Br    0 :evN       : evN/I                                                  *\n",
            "*Entries :   340469 : Total  Size=    1365181 bytes  File Size  =    1127169 *\n",
            "*Baskets :       32 : Basket Size=      51200 bytes  Compression=   1.21     *\n",
            "*............................................................................*\n",
            "*Br    1 :lmiBl     : lmiBl/I                                                *\n",
            "*Entries :   340469 : Total  Size=    1365253 bytes  File Size  =      10885 *\n",
            "*Baskets :       32 : Basket Size=      51200 bytes  Compression= 125.34     *\n",
            "*............................................................................*\n",
            "*Br    2 :mu        : mu/F                                                   *\n",
            "*Entries :   340469 : Total  Size=    1365145 bytes  File Size  =     768000 *\n",
            "*Baskets :       32 : Basket Size=      51200 bytes  Compression=   1.78     *\n",
            "*............................................................................*\n",
            "*Br    3 :timestamp : timestamp/i                                            *\n",
            "*Entries :   340469 : Total  Size=    1365397 bytes  File Size  =     174618 *\n",
            "*Baskets :       32 : Basket Size=      51200 bytes  Compression=   7.81     *\n",
            "*............................................................................*\n",
            "*Br    4 :bcid      : bcid/i                                                 *\n",
            "*Entries :   340469 : Total  Size=    1365217 bytes  File Size  =     703171 *\n",
            "*Baskets :       32 : Basket Size=      51200 bytes  Compression=   1.94     *\n",
            "*............................................................................*\n",
            "*Br    5 :triggers  : triggers[2]/I                                          *\n",
            "*Entries :   340469 : Total  Size=    2730411 bytes  File Size  =      58962 *\n",
            "*Baskets :       64 : Basket Size=      51200 bytes  Compression=  46.28     *\n",
            "*............................................................................*\n",
            "*Br    6 :hits      : hits[4][4]/I                                           *\n",
            "*Entries :   340469 : Total  Size=   21816359 bytes  File Size  =     411947 *\n",
            "*Baskets :      274 : Basket Size=     104448 bytes  Compression=  52.95     *\n",
            "*............................................................................*\n",
            "*Br    7 :hits_row  : hits_row[4][4][100]/I                                  *\n",
            "*Entries :340469 : Total  Size= 2180131331 bytes  File Size  = 12330947 *\n",
            "*Baskets :    11408 : Basket Size=   25600000 bytes  Compression= 176.78     *\n",
            "*............................................................................*\n",
            "*Br    8 :hits_col  : hits_col[4][4][100]/I                                  *\n",
            "*Entries :340469 : Total  Size= 2180131331 bytes  File Size  = 11934074 *\n",
            "*Baskets :    11408 : Basket Size=   25600000 bytes  Compression= 182.66     *\n",
            "*............................................................................*\n",
            "*Br    9 :hits_q    : hits_q[4][4][100]/F                                    *\n",
            "*Entries :340469 : Total  Size= 2180108507 bytes  File Size  = 13428599 *\n",
            "*Baskets :    11408 : Basket Size=   25600000 bytes  Compression= 162.33     *\n",
            "*............................................................................*\n",
            "*Br   10 :clusters  : clusters[4][4]/I                                       *\n",
            "*Entries :   340469 : Total  Size=   21817471 bytes  File Size  =     379081 *\n",
            "*Baskets :      274 : Basket Size=     104448 bytes  Compression=  57.54     *\n",
            "*............................................................................*\n",
            "*Br   11 :clusters_x : clusters_x[4][4][100]/F                               *\n",
            "*Entries :340469 : Total  Size= 2180154155 bytes  File Size  = 13579146 *\n",
            "*Baskets :    11408 : Basket Size=   25600000 bytes  Compression= 160.53     *\n",
            "*............................................................................*\n",
            "*Br   12 :clusters_y : clusters_y[4][4][100]/F                               *\n",
            "*Entries :340469 : Total  Size= 2180154155 bytes  File Size  = 13660040 *\n",
            "*Baskets :    11408 : Basket Size=   25600000 bytes  Compression= 159.58     *\n",
            "*............................................................................*\n",
            "*Br   13 :clusters_z : clusters_z[4][4][100]/F                               *\n",
            "*Entries :340469 : Total  Size= 2180154155 bytes  File Size  = 13647167 *\n",
            "*Baskets :    11408 : Basket Size=   25600000 bytes  Compression= 159.73     *\n",
            "*............................................................................*\n",
            "*Br   14 :clusters_q : clusters_q[4][4][100]/F                               *\n",
            "*Entries :340469 : Total  Size= 2180154155 bytes  File Size  = 13292889 *\n",
            "*Baskets :    11408 : Basket Size=   25600000 bytes  Compression= 163.99     *\n",
            "*............................................................................*\n",
            "*Br   15 :clusters_n : clusters_n[4][4][100]/I                               *\n",
            "*Entries :340469 : Total  Size= 2180154155 bytes  File Size  = 11605694 *\n",
            "*Baskets :    11408 : Basket Size=   25600000 bytes  Compression= 187.83     *\n",
            "*............................................................................*\n",
            "*Br   16 :tot_charge : tot_charge[4][4]/F                                    *\n",
            "*Entries :   340469 : Total  Size=   21818027 bytes  File Size  =     658192 *\n",
            "*Baskets :      274 : Basket Size=     104448 bytes  Compression=  33.14     *\n",
            "*............................................................................*\n",
            "*Br   17 :tot_tovert : tot_tovert[4][4]/F                                    *\n",
            "*Entries :   340469 : Total  Size=   21818027 bytes  File Size  =     554754 *\n",
            "*Baskets :      274 : Basket Size=     104448 bytes  Compression=  39.32     *\n",
            "*............................................................................*\n",
            "*Br   18 :tracks    : tracks[4]/I                                            *\n",
            "*Entries :   340469 : Total  Size=    5459556 bytes  File Size  =     115679 *\n",
            "*Baskets :      121 : Basket Size=      51200 bytes  Compression=  47.17     *\n",
            "*............................................................................*\n",
            "*Br   19 :tracks_x  : tracks_x[4][100]/F                                     *\n",
            "*Entries :   340469 : Total  Size=  545005064 bytes  File Size  =    3308303 *\n",
            "*Baskets :     2569 : Basket Size=    2606080 bytes  Compression= 164.72     *\n",
            "*............................................................................*\n",
            "*Br   20 :tracks_y  : tracks_y[4][100]/F                                     *\n",
            "*Entries :   340469 : Total  Size=  545005064 bytes  File Size  =    3311348 *\n",
            "*Baskets :     2569 : Basket Size=    2606080 bytes  Compression= 164.57     *\n",
            "*............................................................................*\n",
            "*Br   21 :tracks_z  : tracks_z[4][100]/F                                     *\n",
            "*Entries :   340469 : Total  Size=  545005064 bytes  File Size  =    3125964 *\n",
            "*Baskets :     2569 : Basket Size=    2606080 bytes  Compression= 174.33     *\n",
            "*............................................................................*\n",
            "*Br   22 :tracks_sx : tracks_sx[4][100]/F                                    *\n",
            "*Entries :   340469 : Total  Size=  545007637 bytes  File Size  =    3323649 *\n",
            "*Baskets :     2569 : Basket Size=    2606080 bytes  Compression= 163.96     *\n",
            "*............................................................................*\n",
            "*Br   23 :tracks_sy : tracks_sy[4][100]/F                                    *\n",
            "*Entries :   340469 : Total  Size=  545007637 bytes  File Size  =    3320627 *\n",
            "*Baskets :     2569 : Basket Size=    2606080 bytes  Compression= 164.11     *\n",
            "*............................................................................*\n",
            "*Br   24 :tracks_n  : tracks_n[4][100]/I                                     *\n",
            "*Entries :   340469 : Total  Size=  545005064 bytes  File Size  =    2887234 *\n",
            "*Baskets :     2569 : Basket Size=    2606080 bytes  Compression= 188.75     *\n",
            "*............................................................................*\n",
            "*Br   25 :tracks_h  : tracks_h[4][100]/I                                     *\n",
            "*Entries :   340469 : Total  Size=  545005064 bytes  File Size  =    2829488 *\n",
            "*Baskets :     2569 : Basket Size=    2606080 bytes  Compression= 192.60     *\n",
            "*............................................................................*\n",
            "*Br   26 :protons   : protons/I                                              *\n",
            "*Entries :   340469 : Total  Size=    1365325 bytes  File Size  =       9485 *\n",
            "*Baskets :       32 : Basket Size=      51200 bytes  Compression= 143.85     *\n",
            "*............................................................................*\n",
            "*Br   27 :ntofhits  : ntofhits[2]/I                                          *\n",
            "*Entries :   340469 : Total  Size=    2730411 bytes  File Size  =      36417 *\n",
            "*Baskets :       64 : Basket Size=      51200 bytes  Compression=  74.93     *\n",
            "*............................................................................*\n",
            "*Br   28 :toftime   : toftime[2][100]/F                                      *\n",
            "*Entries :   340469 : Total  Size=  272507339 bytes  File Size  =    1440758 *\n",
            "*Baskets :     1345 : Basket Size=    1303040 bytes  Compression= 189.12     *\n",
            "*............................................................................*\n",
            "*Br   29 :toflength : toflength[2][100]/F                                    *\n",
            "*Entries :   340469 : Total  Size=  272510037 bytes  File Size  =    1337276 *\n",
            "*Baskets :     1345 : Basket Size=    1303040 bytes  Compression= 203.76     *\n",
            "*............................................................................*\n",
            "*Br   30 :toftrain  : toftrain[2][100]/I                                     *\n",
            "*Entries :   340469 : Total  Size=  272508688 bytes  File Size  =    1372473 *\n",
            "*Baskets :     1345 : Basket Size=    1303040 bytes  Compression= 198.53     *\n",
            "*............................................................................*\n",
            "*Br   31 :tofbar    : tofbar[2][100]/I                                       *\n",
            "*Entries :   340469 : Total  Size=  272505990 bytes  File Size  =    1372757 *\n",
            "*Baskets :     1345 : Basket Size=    1303040 bytes  Compression= 198.49     *\n",
            "*............................................................................*\n",
            "*Br   32 :tofchannel : tofchannel[2][100]/I                                  *\n",
            "*Entries :   340469 : Total  Size=  272511386 bytes  File Size  =    1389852 *\n",
            "*Baskets :     1345 : Basket Size=    1303040 bytes  Compression= 196.05     *\n",
            "*............................................................................*\n",
            "*Br   33 :noisy_hits : noisy_hits[4][4]/I                                    *\n",
            "*Entries :   340469 : Total  Size=   21818027 bytes  File Size  =     126899 *\n",
            "*Baskets :      274 : Basket Size=     104448 bytes  Compression= 171.89     *\n",
            "*............................................................................*\n"
          ]
        }
      ]
    },
    {
      "cell_type": "code",
      "metadata": {
        "colab": {
          "background_save": true,
          "base_uri": "https://localhost:8080/"
        },
        "id": "1afep46WK0b5",
        "outputId": "f97e6c85-d2f5-448b-be44-bc2394b886cf"
      },
      "source": [
        "def main():\n",
        "  input_path = \"drive/MyDrive/AFP-ML/input.root\"\n",
        "  save_array = True\n",
        "  branches = ['hits', 'hits_row', 'hits_col', 'tot_charge']\n",
        "  selection = \"\"\n",
        "\n",
        "  root_to_numpy(input_path=input_path, save_array=save_array, branches=branches, selection=selection)"
      ],
      "execution_count": null,
      "outputs": [
        {
          "name": "stdout",
          "output_type": "stream",
          "text": [
            "<ROOT.TTree object (\"TreeHits\") at 0x557515b00ec0>\n",
            "SUKCES, POZOSTALO ZAPISAC\n"
          ]
        },
        {
          "name": "stderr",
          "output_type": "stream",
          "text": [
            "tcmalloc: large alloc 4401586176 bytes == 0x557626182000 @  0x7f8b7f8931e7 0x7f8b76d0846e 0x7f8b76d58c7b 0x7f8b76d5935f 0x7f8b76dfb103 0x55750de962eb 0x7f8b49d1cd9c 0x7f8b49d7e887 0x7f8b49d84741 0x55750df554b0 0x55750df55240 0x55750dfc90f3 0x55750dfc39ee 0x55750df56bda 0x55750dfc5737 0x55750dfc39ee 0x55750df56bda 0x55750dfc5737 0x55750dfc39ee 0x55750dfc36f3 0x55750dfc1b60 0x55750df55349 0x55750df55240 0x55750dfc8973 0x55750dfc39ee 0x55750df56bda 0x55750dfc4c0d 0x55750dfc39ee 0x55750df56bda 0x55750dfc5737 0x55750dfc3ced\n"
          ]
        }
      ]
    },
    {
      "cell_type": "code",
      "metadata": {
        "id": "PNeZ0XpX587M"
      },
      "source": [
        "main()"
      ],
      "execution_count": null,
      "outputs": []
    }
  ]
}