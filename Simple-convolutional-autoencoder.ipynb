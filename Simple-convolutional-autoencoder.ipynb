{
  "nbformat": 4,
  "nbformat_minor": 0,
  "metadata": {
    "orig_nbformat": 4,
    "language_info": {
      "name": "python",
      "version": "3.9.5",
      "mimetype": "text/x-python",
      "codemirror_mode": {
        "name": "ipython",
        "version": 3
      },
      "pygments_lexer": "ipython3",
      "nbconvert_exporter": "python",
      "file_extension": ".py"
    },
    "kernelspec": {
      "name": "python3",
      "display_name": "Python 3.9.5 64-bit ('ml_keras': conda)"
    },
    "interpreter": {
      "hash": "1f48a59c72beef8967160b80148c71f83d27309566674d8e15ec323615c4e8ce"
    },
    "colab": {
      "name": "Simple-convolutional-autoencoder.ipynb",
      "provenance": []
    },
    "accelerator": "GPU"
  },
  "cells": [
    {
      "cell_type": "code",
      "metadata": {
        "id": "9ReUqdShB5to",
        "colab": {
          "base_uri": "https://localhost:8080/"
        },
        "outputId": "ba7f3be7-9cac-45eb-d660-9b10efedc9d1"
      },
      "source": [
        "from google.colab import drive\n",
        "drive.mount('/content/drive')"
      ],
      "execution_count": 1,
      "outputs": [
        {
          "output_type": "stream",
          "name": "stdout",
          "text": [
            "Mounted at /content/drive\n"
          ]
        }
      ]
    },
    {
      "cell_type": "markdown",
      "metadata": {
        "id": "DIWPD5U88pFj"
      },
      "source": [
        "# **DEFINE FUNCTIONS**"
      ]
    },
    {
      "cell_type": "markdown",
      "metadata": {
        "id": "MIsz-dsS8pFn"
      },
      "source": [
        "## Load and prepare data"
      ]
    },
    {
      "cell_type": "code",
      "metadata": {
        "id": "Agzkcc0j8pFo"
      },
      "source": [
        "import numpy as np\n",
        "def prepareData(dataInputPath, validateFraction):\n",
        "\n",
        "    trainEvents = np.load(dataInputPath)\n",
        "    validateSize = int(len(trainEvents) * validateFraction)\n",
        "    \n",
        "    validateEvents = np.array(trainEvents[-validateSize:])\n",
        "    trainEvents = np.array(trainEvents[:-validateSize])\n",
        "\n",
        "    trainEvents = trainEvents.astype('float16')\n",
        "    validateEvents = validateEvents.astype('float16')\n",
        "\n",
        "    return [trainEvents, validateEvents]"
      ],
      "execution_count": 2,
      "outputs": []
    },
    {
      "cell_type": "markdown",
      "metadata": {
        "id": "hPKVJHOP8pFq"
      },
      "source": [
        "## Create and prepare network"
      ]
    },
    {
      "cell_type": "code",
      "metadata": {
        "id": "bLLAMhoq8pFr"
      },
      "source": [
        "import tensorflow as tf\n",
        "import keras\n",
        "from keras import layers\n",
        "import pickle\n",
        "\n",
        "def trainNeuralNetwork(modelOutputPath, trainEvents, validateEvents, singleInputShape, parameters, trainingInformation):\n",
        "\n",
        "    encoderInput = keras.Input(shape=(singleInputShape['x'], singleInputShape['y'], singleInputShape['channels']))\n",
        "\n",
        "    x = layers.Conv2D(16, (4,3), activation='relu', padding='same')(encoderInput)\n",
        "    x = layers.MaxPooling2D(pool_size=(4,4))(x)\n",
        "\n",
        "    x = layers.Conv2D(32, (4,3), activation='relu', padding='same', kernel_regularizer=tf.keras.regularizers.l2(l=0.0001))(x)\n",
        "    x = layers.MaxPooling2D(pool_size=(4,4))(x)\n",
        "\n",
        "    x = layers.Conv2D(64, (4,3), activation='relu', padding='same', kernel_regularizer=tf.keras.regularizers.l2(l=0.0001))(x)\n",
        "\n",
        "    x = layers.Conv2D(64, (4,4), activation='relu', padding='same', kernel_regularizer=tf.keras.regularizers.l2(l=0.0001))(x)\n",
        "    x = layers.UpSampling2D((4,4))(x)\n",
        "\n",
        "    x = layers.Conv2D(32, (4,3), activation='relu', padding='same', kernel_regularizer=tf.keras.regularizers.l2(l=0.0001))(x)\n",
        "    x = layers.UpSampling2D((4,4))(x)\n",
        "\n",
        "    decoderOutput = layers.Conv2D(4, (4,3), activation='sigmoid', padding='same')(x)\n",
        "\n",
        "    autoencoder = keras.Model(encoderInput, decoderOutput, name=\"autoencoder\")\n",
        "    autoencoder.summary()\n",
        "\n",
        "    # save model summary to txt (so we can save it to file later)\n",
        "    stringlist = []\n",
        "    autoencoder.summary(print_fn=lambda x: stringlist.append(x))\n",
        "    short_model_summary = \"\\n\".join(stringlist)\n",
        "\n",
        "    autoencoder.compile(optimizer='adam', loss='binary_crossentropy', metrics=['accuracy'])\n",
        "    history = autoencoder.fit(trainEvents, trainEvents,\n",
        "                epochs = parameters[\"epochs\"],\n",
        "                batch_size= parameters[\"batchSize\"],\n",
        "                shuffle = True,\n",
        "                validation_data = (validateEvents, validateEvents))\n",
        "\n",
        "    if modelOutputPath != '0':\n",
        "        import time\n",
        "        path = modelOutputPath + time.strftime(\"/autoencoder_%d-%m-%Y_%H-%M-%S\")\n",
        "        autoencoder.save(path)\n",
        "\n",
        "        f = open(path + '/history.pckl', 'wb')\n",
        "        pickle.dump(history.history, f)\n",
        "        f.close()\n",
        "\n",
        "        f = open(path + '/training-parameters.txt', 'w+')\n",
        "        f.write(\"- epochs: \" + str(parameters[\"epochs\"]) + \"\\n\")\n",
        "        f.write(\"- batch size: \" + str(parameters[\"batchSize\"]) + \"\\n \\n\")\n",
        "        f.write(\"- input: \" + str(trainingInformation[\"inputPath\"]) + \"\\n\")\n",
        "        f.write(\"- number of events: \" + str(len(trainEvents) + len(validateEvents)) + \"\\n\")\n",
        "        f.write(\"- validate fraction: \" + str(trainingInformation[\"validateFraction\"]) + \"\\n \\n\")\n",
        "        f.write(\"- training accuracy (last epoch): \" + str(history.history.get('accuracy')[-1]) + \"\\n\")\n",
        "        f.write(\"- validation accuracy (last epoch): \" + str(history.history.get('val_accuracy')[-1]) + \"\\n \\n\")\n",
        "        f.write(\"- training loss (last epoch): \" + str(history.history.get('loss')[-1]) + \"\\n\")\n",
        "        f.write(\"- validation loss (last epoch): \" + str(history.history.get('val_loss')[-1]) + \"\\n \\n \\n\")\n",
        "\n",
        "        f.write(short_model_summary)\n",
        "        f.close()\n",
        "\n",
        "        #TODO ADD PLOTTING TO TRAINING SO IT CAN SAVE RESULTS INTO TRAINED MODEL FOLDER\n",
        "\n",
        "    return [history, autoencoder]"
      ],
      "execution_count": 62,
      "outputs": []
    },
    {
      "cell_type": "markdown",
      "metadata": {
        "id": "Pcu9EVd68pFs"
      },
      "source": [
        "## Load trained network (instead)"
      ]
    },
    {
      "cell_type": "code",
      "metadata": {
        "id": "YrJ6ow-l8pFt"
      },
      "source": [
        "import numpy as np\n",
        "import keras\n",
        "\n",
        "def loadTrainedModel(loadedModelPath):\n",
        "    f = open(loadedModelPath + '/history.pckl', 'rb')\n",
        "    history = pickle.load(f)\n",
        "    f.close()\n",
        "    return [keras.models.load_model(loadedModelPath), history]"
      ],
      "execution_count": 19,
      "outputs": []
    },
    {
      "cell_type": "markdown",
      "metadata": {
        "id": "zuU--YNv8pFu"
      },
      "source": [
        "## Plot results"
      ]
    },
    {
      "cell_type": "code",
      "metadata": {
        "id": "EMWjfUlp8pFv"
      },
      "source": [
        "import tensorflow as tf\n",
        "import matplotlib.pyplot as plt\n",
        "\n",
        "#TODO ADD PLOTTING TO TRAINING SO IT CAN SAVE RESULTS INTO TRAINED MODEL FOLDER\n",
        "\n",
        "def plotResults(autoencoder, validateEvents, singleInputShape, history, shownEventNumber):\n",
        "    encodedEvents = autoencoder.predict(validateEvents)\n",
        "    plotLossAccuracy(history)\n",
        "    calculateThresholds(encodedEvents, validateEvents, singleInputShape)\n",
        "    showReconstructedEvents(shownEventNumber, validateEvents, encodedEvents)\n",
        "\n",
        "def plotLossAccuracy(history):\n",
        "    plt.plot(history.history['loss'], label='train')\n",
        "    plt.plot(history.history['val_loss'], label='validation')\n",
        "    plt.title(\"cost function\")\n",
        "    plt.xlabel(\"epoch\")\n",
        "    plt.ylabel(\"cost\")\n",
        "    plt.legend()\n",
        "    plt.show()\n",
        "\n",
        "    plt.plot(history.history['accuracy'])\n",
        "    plt.plot(history.history['val_accuracy'])\n",
        "    plt.title('model accuracy')\n",
        "    plt.ylabel('accuracy')\n",
        "    plt.xlabel('epoch')\n",
        "    plt.legend(['train', 'validation'], loc='upper left')\n",
        "    plt.show()\n",
        "\n",
        "def calculateThresholds(encodedEvents, validateEvents, singleInputShape):\n",
        "\n",
        "    flatLength = singleInputShape[\"x\"] * singleInputShape[\"y\"] * singleInputShape[\"channels\"]\n",
        "    encodedEventsFlat = np.reshape(encodedEvents, [len(encodedEvents), flatLength])\n",
        "\n",
        "    # TODO repair reconstruction error, maybe change reshaping\n",
        "\n",
        "    validateEventsFlat = np.reshape(validateEvents, [len(encodedEvents), flatLength])\n",
        "    reconstructionErrors = tf.keras.losses.mse(encodedEventsFlat, validateEventsFlat)\n",
        "    encodedEventsFlat = None\n",
        "    validateEventsFlat = None\n",
        "\n",
        "    anomalyThreshold = np.mean(reconstructionErrors.numpy()) + np.std(reconstructionErrors.numpy())\n",
        "    print(\"Reconstruction error threshold: \", anomalyThreshold)\n",
        "\n",
        "    # Train MAE loss.\n",
        "    plt.axvline(anomalyThreshold, color='k', linestyle='dashed', linewidth=1)\n",
        "    plt.hist(reconstructionErrors, bins=100)\n",
        "    plt.xlabel(\"MSE loss\")\n",
        "    plt.ylabel(\"Number of samples\")\n",
        "    plt.show()\n",
        "\n",
        "    # Train MAE loss in logarithmic scale\n",
        "    plt.axvline(anomalyThreshold, color='k', linestyle='dashed', linewidth=1)\n",
        "    plt.hist(reconstructionErrors, bins=500)\n",
        "    plt.xlabel(\"MSE loss\")\n",
        "    plt.ylabel(\"Number of samples (log)\")\n",
        "    plt.yscale(\"log\")  \n",
        "    plt.show()\n",
        "\n",
        "\n",
        "\n",
        "def showReconstructedEvents(eventNumber, validateEvents, encodedEvents):\n",
        "\n",
        "  n = 4 \n",
        "  plt.figure(figsize=(20, 4), dpi=200)\n",
        "\n",
        "  for i in range(0, n):\n",
        "\n",
        "    # Display original\n",
        "    ax = plt.subplot(2, n, i + 1)\n",
        "    img = np.zeros((80,336))\n",
        "    for l,px in enumerate(validateEvents[i + eventNumber * 4]):\n",
        "        for k,py in enumerate(px):\n",
        "            img[k][l] = py[0]\n",
        "    plt.imshow(img)\n",
        "    plt.gray()\n",
        "    ax.get_xaxis().set_visible(False)\n",
        "    ax.get_yaxis().set_visible(False)\n",
        "\n",
        "    # Display reconstruction\n",
        "    ax = plt.subplot(2, n, i + 1 + n)\n",
        "    dec_img=np.zeros((80,336))\n",
        "    for l,px in enumerate(encodedEvents[i + eventNumber * 4]):\n",
        "        for k,py in enumerate(px):\n",
        "            dec_img[k][l]=py[0]\n",
        "\n",
        "\n",
        "    plt.imshow(dec_img)\n",
        "    plt.gray()\n",
        "    ax.get_xaxis().set_visible(False)\n",
        "    ax.get_yaxis().set_visible(False)\n",
        "\n",
        "\n",
        "\n",
        "  # if error_values[eventNumber] < threshold:\n",
        "  #     plt.text(-580, -40, 'Reconstruction error: ' + str(error_values[eventNumber]), fontsize = 12)\n",
        "  # else:\n",
        "  #     plt.text(-580, -40, 'Reconstruction error: ' + str(error_values[eventNumber]), fontsize = 12, color='r')\n",
        "  # plt.show()"
      ],
      "execution_count": 65,
      "outputs": []
    },
    {
      "cell_type": "markdown",
      "metadata": {
        "id": "gcAOFsTl8pFw"
      },
      "source": [
        "# RUN CODE"
      ]
    },
    {
      "cell_type": "markdown",
      "metadata": {
        "id": "eSi86Ud98pFx"
      },
      "source": [
        "## Load and prepare data"
      ]
    },
    {
      "cell_type": "code",
      "metadata": {
        "id": "Lw3ghJc58pFx"
      },
      "source": [
        "inputDataPath = \"drive/MyDrive/AFP-ML/input-data/336505_centr_trigger_all.npy\"\n",
        "validateFraction = 0.1\n",
        "\n",
        "trainEvents, validateEvents = prepareData(inputDataPath, validateFraction)"
      ],
      "execution_count": 28,
      "outputs": []
    },
    {
      "cell_type": "markdown",
      "metadata": {
        "id": "91V8FxNO8pFy"
      },
      "source": [
        "## Run and train network"
      ]
    },
    {
      "cell_type": "code",
      "metadata": {
        "id": "X051vjx98pFy",
        "colab": {
          "base_uri": "https://localhost:8080/"
        },
        "outputId": "4c3eb68a-0d86-4798-dcea-49a70ec453e1"
      },
      "source": [
        "outputModelPath = \"drive/MyDrive/AFP-ML/trained-models\"     # '0': don't save; save with default name\n",
        "parameters = {\"epochs\" : 200, \n",
        "              \"batchSize\" : 100}\n",
        "singleInputShape = {\"x\" : 336, \"y\" : 80, \"channels\" : 4}\n",
        "trainingInformation = {\"inputPath\" : inputDataPath, \"validateFraction\" : validateFraction}\n",
        "\n",
        "history, autoencoder = trainNeuralNetwork(outputModelPath, trainEvents, validateEvents, singleInputShape, parameters, trainingInformation)"
      ],
      "execution_count": 66,
      "outputs": [
        {
          "output_type": "stream",
          "name": "stdout",
          "text": [
            "Model: \"autoencoder\"\n",
            "_________________________________________________________________\n",
            "Layer (type)                 Output Shape              Param #   \n",
            "=================================================================\n",
            "input_16 (InputLayer)        [(None, 336, 80, 4)]      0         \n",
            "_________________________________________________________________\n",
            "conv2d_90 (Conv2D)           (None, 336, 80, 16)       784       \n",
            "_________________________________________________________________\n",
            "max_pooling2d_30 (MaxPooling (None, 84, 20, 16)        0         \n",
            "_________________________________________________________________\n",
            "conv2d_91 (Conv2D)           (None, 84, 20, 32)        6176      \n",
            "_________________________________________________________________\n",
            "max_pooling2d_31 (MaxPooling (None, 21, 5, 32)         0         \n",
            "_________________________________________________________________\n",
            "conv2d_92 (Conv2D)           (None, 21, 5, 64)         24640     \n",
            "_________________________________________________________________\n",
            "conv2d_93 (Conv2D)           (None, 21, 5, 64)         65600     \n",
            "_________________________________________________________________\n",
            "up_sampling2d_30 (UpSampling (None, 84, 20, 64)        0         \n",
            "_________________________________________________________________\n",
            "conv2d_94 (Conv2D)           (None, 84, 20, 32)        24608     \n",
            "_________________________________________________________________\n",
            "up_sampling2d_31 (UpSampling (None, 336, 80, 32)       0         \n",
            "_________________________________________________________________\n",
            "conv2d_95 (Conv2D)           (None, 336, 80, 4)        1540      \n",
            "=================================================================\n",
            "Total params: 123,348\n",
            "Trainable params: 123,348\n",
            "Non-trainable params: 0\n",
            "_________________________________________________________________\n",
            "Epoch 1/200\n",
            "9/9 [==============================] - 7s 508ms/step - loss: 0.6040 - accuracy: 0.9632 - val_loss: 0.1840 - val_accuracy: 0.9874\n",
            "Epoch 2/200\n",
            "9/9 [==============================] - 3s 294ms/step - loss: 0.0541 - accuracy: 0.9852 - val_loss: 0.0277 - val_accuracy: 0.9728\n",
            "Epoch 3/200\n",
            "9/9 [==============================] - 3s 297ms/step - loss: 0.0349 - accuracy: 0.6186 - val_loss: 0.0366 - val_accuracy: 0.0437\n",
            "Epoch 4/200\n",
            "9/9 [==============================] - 3s 293ms/step - loss: 0.0378 - accuracy: 0.0263 - val_loss: 0.0320 - val_accuracy: 0.0059\n",
            "Epoch 5/200\n",
            "9/9 [==============================] - 3s 298ms/step - loss: 0.0302 - accuracy: 0.0012 - val_loss: 0.0244 - val_accuracy: 1.2943e-04\n",
            "Epoch 6/200\n",
            "9/9 [==============================] - 3s 297ms/step - loss: 0.0231 - accuracy: 1.1756e-04 - val_loss: 0.0191 - val_accuracy: 9.2231e-05\n",
            "Epoch 7/200\n",
            "9/9 [==============================] - 3s 296ms/step - loss: 0.0183 - accuracy: 8.7563e-05 - val_loss: 0.0165 - val_accuracy: 9.2231e-05\n",
            "Epoch 8/200\n",
            "9/9 [==============================] - 3s 295ms/step - loss: 0.0162 - accuracy: 8.7477e-05 - val_loss: 0.0153 - val_accuracy: 9.2231e-05\n",
            "Epoch 9/200\n",
            "9/9 [==============================] - 3s 293ms/step - loss: 0.0150 - accuracy: 8.7177e-05 - val_loss: 0.0143 - val_accuracy: 9.0293e-05\n",
            "Epoch 10/200\n",
            "9/9 [==============================] - 3s 292ms/step - loss: 0.0142 - accuracy: 0.0016 - val_loss: 0.0136 - val_accuracy: 0.0110\n",
            "Epoch 11/200\n",
            "9/9 [==============================] - 3s 297ms/step - loss: 0.0134 - accuracy: 0.0499 - val_loss: 0.0129 - val_accuracy: 0.0732\n",
            "Epoch 12/200\n",
            "9/9 [==============================] - 3s 297ms/step - loss: 0.0127 - accuracy: 0.0571 - val_loss: 0.0123 - val_accuracy: 0.0426\n",
            "Epoch 13/200\n",
            "9/9 [==============================] - 3s 295ms/step - loss: 0.0121 - accuracy: 0.0429 - val_loss: 0.0118 - val_accuracy: 0.0802\n",
            "Epoch 14/200\n",
            "9/9 [==============================] - 3s 294ms/step - loss: 0.0116 - accuracy: 0.1092 - val_loss: 0.0114 - val_accuracy: 0.1067\n",
            "Epoch 15/200\n",
            "9/9 [==============================] - 3s 295ms/step - loss: 0.0112 - accuracy: 0.1068 - val_loss: 0.0110 - val_accuracy: 0.1053\n",
            "Epoch 16/200\n",
            "9/9 [==============================] - 3s 298ms/step - loss: 0.0108 - accuracy: 0.1258 - val_loss: 0.0106 - val_accuracy: 0.0818\n",
            "Epoch 17/200\n",
            "9/9 [==============================] - 3s 296ms/step - loss: 0.0104 - accuracy: 0.0698 - val_loss: 0.0102 - val_accuracy: 0.0683\n",
            "Epoch 18/200\n",
            "9/9 [==============================] - 3s 296ms/step - loss: 0.0101 - accuracy: 0.0906 - val_loss: 0.0101 - val_accuracy: 0.1627\n",
            "Epoch 19/200\n",
            "9/9 [==============================] - 3s 297ms/step - loss: 0.0100 - accuracy: 0.1204 - val_loss: 0.0098 - val_accuracy: 0.1169\n",
            "Epoch 20/200\n",
            "9/9 [==============================] - 3s 297ms/step - loss: 0.0096 - accuracy: 0.1802 - val_loss: 0.0094 - val_accuracy: 0.1836\n",
            "Epoch 21/200\n",
            "9/9 [==============================] - 3s 297ms/step - loss: 0.0094 - accuracy: 0.1510 - val_loss: 0.0092 - val_accuracy: 0.1761\n",
            "Epoch 22/200\n",
            "9/9 [==============================] - 3s 299ms/step - loss: 0.0091 - accuracy: 0.2350 - val_loss: 0.0090 - val_accuracy: 0.1675\n",
            "Epoch 23/200\n",
            "9/9 [==============================] - 3s 297ms/step - loss: 0.0089 - accuracy: 0.1220 - val_loss: 0.0087 - val_accuracy: 0.1099\n",
            "Epoch 24/200\n",
            "9/9 [==============================] - 3s 296ms/step - loss: 0.0086 - accuracy: 0.2214 - val_loss: 0.0085 - val_accuracy: 0.1447\n",
            "Epoch 25/200\n",
            "9/9 [==============================] - 3s 295ms/step - loss: 0.0084 - accuracy: 0.1048 - val_loss: 0.0083 - val_accuracy: 0.1174\n",
            "Epoch 26/200\n",
            "9/9 [==============================] - 3s 294ms/step - loss: 0.0082 - accuracy: 0.2039 - val_loss: 0.0081 - val_accuracy: 0.1933\n",
            "Epoch 27/200\n",
            "9/9 [==============================] - 3s 298ms/step - loss: 0.0080 - accuracy: 0.1385 - val_loss: 0.0079 - val_accuracy: 0.1308\n",
            "Epoch 28/200\n",
            "9/9 [==============================] - 3s 298ms/step - loss: 0.0078 - accuracy: 0.1549 - val_loss: 0.0077 - val_accuracy: 0.2761\n",
            "Epoch 29/200\n",
            "9/9 [==============================] - 3s 294ms/step - loss: 0.0076 - accuracy: 0.2723 - val_loss: 0.0075 - val_accuracy: 0.1285\n",
            "Epoch 30/200\n",
            "9/9 [==============================] - 3s 300ms/step - loss: 0.0074 - accuracy: 0.1824 - val_loss: 0.0073 - val_accuracy: 0.4130\n",
            "Epoch 31/200\n",
            "9/9 [==============================] - 3s 296ms/step - loss: 0.0072 - accuracy: 0.2272 - val_loss: 0.0072 - val_accuracy: 0.1331\n",
            "Epoch 32/200\n",
            "9/9 [==============================] - 3s 310ms/step - loss: 0.0071 - accuracy: 0.2334 - val_loss: 0.0070 - val_accuracy: 0.4387\n",
            "Epoch 33/200\n",
            "9/9 [==============================] - 3s 301ms/step - loss: 0.0069 - accuracy: 0.2470 - val_loss: 0.0068 - val_accuracy: 0.1272\n",
            "Epoch 34/200\n",
            "9/9 [==============================] - 3s 297ms/step - loss: 0.0067 - accuracy: 0.1976 - val_loss: 0.0066 - val_accuracy: 0.1184\n",
            "Epoch 35/200\n",
            "9/9 [==============================] - 3s 296ms/step - loss: 0.0066 - accuracy: 0.1462 - val_loss: 0.0065 - val_accuracy: 0.7806\n",
            "Epoch 36/200\n",
            "9/9 [==============================] - 3s 299ms/step - loss: 0.0064 - accuracy: 0.4014 - val_loss: 0.0063 - val_accuracy: 0.1045\n",
            "Epoch 37/200\n",
            "9/9 [==============================] - 3s 300ms/step - loss: 0.0062 - accuracy: 0.4370 - val_loss: 0.0062 - val_accuracy: 0.6649\n",
            "Epoch 38/200\n",
            "9/9 [==============================] - 3s 298ms/step - loss: 0.0061 - accuracy: 0.2590 - val_loss: 0.0060 - val_accuracy: 0.2524\n",
            "Epoch 39/200\n",
            "9/9 [==============================] - 3s 300ms/step - loss: 0.0060 - accuracy: 0.5455 - val_loss: 0.0059 - val_accuracy: 0.4653\n",
            "Epoch 40/200\n",
            "9/9 [==============================] - 3s 298ms/step - loss: 0.0058 - accuracy: 0.3382 - val_loss: 0.0057 - val_accuracy: 0.3075\n",
            "Epoch 41/200\n",
            "9/9 [==============================] - 3s 299ms/step - loss: 0.0057 - accuracy: 0.6973 - val_loss: 0.0056 - val_accuracy: 0.6047\n",
            "Epoch 42/200\n",
            "9/9 [==============================] - 3s 299ms/step - loss: 0.0055 - accuracy: 0.1894 - val_loss: 0.0055 - val_accuracy: 0.2762\n",
            "Epoch 43/200\n",
            "9/9 [==============================] - 3s 297ms/step - loss: 0.0054 - accuracy: 0.7950 - val_loss: 0.0054 - val_accuracy: 0.7716\n",
            "Epoch 44/200\n",
            "9/9 [==============================] - 3s 297ms/step - loss: 0.0053 - accuracy: 0.3459 - val_loss: 0.0052 - val_accuracy: 0.5041\n",
            "Epoch 45/200\n",
            "9/9 [==============================] - 3s 300ms/step - loss: 0.0052 - accuracy: 0.7862 - val_loss: 0.0051 - val_accuracy: 0.8650\n",
            "Epoch 46/200\n",
            "9/9 [==============================] - 3s 299ms/step - loss: 0.0051 - accuracy: 0.7114 - val_loss: 0.0050 - val_accuracy: 0.5451\n",
            "Epoch 47/200\n",
            "9/9 [==============================] - 3s 295ms/step - loss: 0.0049 - accuracy: 0.6745 - val_loss: 0.0049 - val_accuracy: 0.7089\n",
            "Epoch 48/200\n",
            "9/9 [==============================] - 3s 296ms/step - loss: 0.0048 - accuracy: 0.5117 - val_loss: 0.0048 - val_accuracy: 0.8073\n",
            "Epoch 49/200\n",
            "9/9 [==============================] - 3s 293ms/step - loss: 0.0047 - accuracy: 0.7599 - val_loss: 0.0047 - val_accuracy: 0.4455\n",
            "Epoch 50/200\n",
            "9/9 [==============================] - 3s 297ms/step - loss: 0.0046 - accuracy: 0.5626 - val_loss: 0.0046 - val_accuracy: 0.8190\n",
            "Epoch 51/200\n",
            "9/9 [==============================] - 3s 295ms/step - loss: 0.0045 - accuracy: 0.8237 - val_loss: 0.0045 - val_accuracy: 0.8021\n",
            "Epoch 52/200\n",
            "9/9 [==============================] - 3s 298ms/step - loss: 0.0044 - accuracy: 0.4515 - val_loss: 0.0044 - val_accuracy: 0.4787\n",
            "Epoch 53/200\n",
            "9/9 [==============================] - 3s 299ms/step - loss: 0.0043 - accuracy: 0.7720 - val_loss: 0.0043 - val_accuracy: 0.9043\n",
            "Epoch 54/200\n",
            "9/9 [==============================] - 3s 295ms/step - loss: 0.0042 - accuracy: 0.3598 - val_loss: 0.0042 - val_accuracy: 0.2737\n",
            "Epoch 55/200\n",
            "9/9 [==============================] - 3s 296ms/step - loss: 0.0041 - accuracy: 0.7070 - val_loss: 0.0041 - val_accuracy: 0.8156\n",
            "Epoch 56/200\n",
            "9/9 [==============================] - 3s 297ms/step - loss: 0.0040 - accuracy: 0.3785 - val_loss: 0.0040 - val_accuracy: 0.3215\n",
            "Epoch 57/200\n",
            "9/9 [==============================] - 3s 301ms/step - loss: 0.0040 - accuracy: 0.7434 - val_loss: 0.0039 - val_accuracy: 0.8422\n",
            "Epoch 58/200\n",
            "9/9 [==============================] - 3s 297ms/step - loss: 0.0039 - accuracy: 0.5697 - val_loss: 0.0038 - val_accuracy: 0.5330\n",
            "Epoch 59/200\n",
            "9/9 [==============================] - 3s 296ms/step - loss: 0.0038 - accuracy: 0.6700 - val_loss: 0.0037 - val_accuracy: 0.7164\n",
            "Epoch 60/200\n",
            "9/9 [==============================] - 3s 297ms/step - loss: 0.0037 - accuracy: 0.6796 - val_loss: 0.0037 - val_accuracy: 0.6253\n",
            "Epoch 61/200\n",
            "9/9 [==============================] - 3s 298ms/step - loss: 0.0036 - accuracy: 0.5953 - val_loss: 0.0036 - val_accuracy: 0.7294\n",
            "Epoch 62/200\n",
            "9/9 [==============================] - 3s 299ms/step - loss: 0.0036 - accuracy: 0.7602 - val_loss: 0.0035 - val_accuracy: 0.7171\n",
            "Epoch 63/200\n",
            "9/9 [==============================] - 3s 299ms/step - loss: 0.0035 - accuracy: 0.6541 - val_loss: 0.0035 - val_accuracy: 0.5014\n",
            "Epoch 64/200\n",
            "9/9 [==============================] - 3s 298ms/step - loss: 0.0034 - accuracy: 0.7531 - val_loss: 0.0034 - val_accuracy: 0.7917\n",
            "Epoch 65/200\n",
            "9/9 [==============================] - 3s 296ms/step - loss: 0.0033 - accuracy: 0.5474 - val_loss: 0.0033 - val_accuracy: 0.4312\n",
            "Epoch 66/200\n",
            "9/9 [==============================] - 3s 297ms/step - loss: 0.0033 - accuracy: 0.5751 - val_loss: 0.0032 - val_accuracy: 0.8357\n",
            "Epoch 67/200\n",
            "9/9 [==============================] - 3s 298ms/step - loss: 0.0032 - accuracy: 0.7727 - val_loss: 0.0032 - val_accuracy: 0.6199\n",
            "Epoch 68/200\n",
            "9/9 [==============================] - 3s 289ms/step - loss: 0.0031 - accuracy: 0.5116 - val_loss: 0.0031 - val_accuracy: 0.5479\n",
            "Epoch 69/200\n",
            "9/9 [==============================] - 3s 298ms/step - loss: 0.0031 - accuracy: 0.7936 - val_loss: 0.0030 - val_accuracy: 0.8590\n",
            "Epoch 70/200\n",
            "9/9 [==============================] - 3s 295ms/step - loss: 0.0030 - accuracy: 0.8372 - val_loss: 0.0030 - val_accuracy: 0.6885\n",
            "Epoch 71/200\n",
            "9/9 [==============================] - 3s 297ms/step - loss: 0.0030 - accuracy: 0.3951 - val_loss: 0.0029 - val_accuracy: 0.3993\n",
            "Epoch 72/200\n",
            "9/9 [==============================] - 3s 299ms/step - loss: 0.0029 - accuracy: 0.7378 - val_loss: 0.0029 - val_accuracy: 0.8797\n",
            "Epoch 73/200\n",
            "9/9 [==============================] - 3s 295ms/step - loss: 0.0029 - accuracy: 0.5241 - val_loss: 0.0028 - val_accuracy: 0.2471\n",
            "Epoch 74/200\n",
            "9/9 [==============================] - 3s 296ms/step - loss: 0.0028 - accuracy: 0.4577 - val_loss: 0.0028 - val_accuracy: 0.8698\n",
            "Epoch 75/200\n",
            "9/9 [==============================] - 3s 298ms/step - loss: 0.0027 - accuracy: 0.8198 - val_loss: 0.0027 - val_accuracy: 0.6557\n",
            "Epoch 76/200\n",
            "9/9 [==============================] - 3s 295ms/step - loss: 0.0027 - accuracy: 0.4708 - val_loss: 0.0027 - val_accuracy: 0.4118\n",
            "Epoch 77/200\n",
            "9/9 [==============================] - 3s 294ms/step - loss: 0.0026 - accuracy: 0.6734 - val_loss: 0.0026 - val_accuracy: 0.8297\n",
            "Epoch 78/200\n",
            "9/9 [==============================] - 3s 295ms/step - loss: 0.0026 - accuracy: 0.6999 - val_loss: 0.0025 - val_accuracy: 0.6359\n",
            "Epoch 79/200\n",
            "9/9 [==============================] - 3s 300ms/step - loss: 0.0025 - accuracy: 0.7512 - val_loss: 0.0025 - val_accuracy: 0.8478\n",
            "Epoch 80/200\n",
            "9/9 [==============================] - 3s 302ms/step - loss: 0.0025 - accuracy: 0.6609 - val_loss: 0.0025 - val_accuracy: 0.5253\n",
            "Epoch 81/200\n",
            "9/9 [==============================] - 3s 296ms/step - loss: 0.0024 - accuracy: 0.5004 - val_loss: 0.0024 - val_accuracy: 0.6061\n",
            "Epoch 82/200\n",
            "9/9 [==============================] - 3s 296ms/step - loss: 0.0024 - accuracy: 0.8327 - val_loss: 0.0024 - val_accuracy: 0.8362\n",
            "Epoch 83/200\n",
            "9/9 [==============================] - 3s 299ms/step - loss: 0.0023 - accuracy: 0.7224 - val_loss: 0.0023 - val_accuracy: 0.5483\n",
            "Epoch 84/200\n",
            "9/9 [==============================] - 3s 295ms/step - loss: 0.0023 - accuracy: 0.7197 - val_loss: 0.0023 - val_accuracy: 0.8271\n",
            "Epoch 85/200\n",
            "9/9 [==============================] - 3s 299ms/step - loss: 0.0023 - accuracy: 0.6564 - val_loss: 0.0022 - val_accuracy: 0.5147\n",
            "Epoch 86/200\n",
            "9/9 [==============================] - 3s 297ms/step - loss: 0.0022 - accuracy: 0.5069 - val_loss: 0.0022 - val_accuracy: 0.7926\n",
            "Epoch 87/200\n",
            "9/9 [==============================] - 3s 294ms/step - loss: 0.0022 - accuracy: 0.8110 - val_loss: 0.0022 - val_accuracy: 0.8739\n",
            "Epoch 88/200\n",
            "9/9 [==============================] - 3s 296ms/step - loss: 0.0021 - accuracy: 0.8814 - val_loss: 0.0021 - val_accuracy: 0.8356\n",
            "Epoch 89/200\n",
            "9/9 [==============================] - 3s 297ms/step - loss: 0.0021 - accuracy: 0.5288 - val_loss: 0.0021 - val_accuracy: 0.4469\n",
            "Epoch 90/200\n",
            "9/9 [==============================] - 3s 298ms/step - loss: 0.0021 - accuracy: 0.6842 - val_loss: 0.0021 - val_accuracy: 0.8885\n",
            "Epoch 91/200\n",
            "9/9 [==============================] - 3s 298ms/step - loss: 0.0020 - accuracy: 0.8389 - val_loss: 0.0020 - val_accuracy: 0.5793\n",
            "Epoch 92/200\n",
            "9/9 [==============================] - 3s 296ms/step - loss: 0.0020 - accuracy: 0.5069 - val_loss: 0.0020 - val_accuracy: 0.5999\n",
            "Epoch 93/200\n",
            "9/9 [==============================] - 3s 295ms/step - loss: 0.0020 - accuracy: 0.6741 - val_loss: 0.0019 - val_accuracy: 0.8735\n",
            "Epoch 94/200\n",
            "9/9 [==============================] - 3s 300ms/step - loss: 0.0019 - accuracy: 0.8892 - val_loss: 0.0019 - val_accuracy: 0.8852\n",
            "Epoch 95/200\n",
            "9/9 [==============================] - 3s 296ms/step - loss: 0.0019 - accuracy: 0.8145 - val_loss: 0.0019 - val_accuracy: 0.7192\n",
            "Epoch 96/200\n",
            "9/9 [==============================] - 3s 297ms/step - loss: 0.0019 - accuracy: 0.7779 - val_loss: 0.0019 - val_accuracy: 0.8571\n",
            "Epoch 97/200\n",
            "9/9 [==============================] - 3s 298ms/step - loss: 0.0018 - accuracy: 0.8729 - val_loss: 0.0019 - val_accuracy: 0.7947\n",
            "Epoch 98/200\n",
            "9/9 [==============================] - 3s 299ms/step - loss: 0.0018 - accuracy: 0.7325 - val_loss: 0.0018 - val_accuracy: 0.6157\n",
            "Epoch 99/200\n",
            "9/9 [==============================] - 3s 294ms/step - loss: 0.0018 - accuracy: 0.5855 - val_loss: 0.0018 - val_accuracy: 0.6852\n",
            "Epoch 100/200\n",
            "9/9 [==============================] - 3s 296ms/step - loss: 0.0018 - accuracy: 0.7827 - val_loss: 0.0018 - val_accuracy: 0.8675\n",
            "Epoch 101/200\n",
            "9/9 [==============================] - 3s 295ms/step - loss: 0.0017 - accuracy: 0.8692 - val_loss: 0.0018 - val_accuracy: 0.8324\n",
            "Epoch 102/200\n",
            "9/9 [==============================] - 3s 297ms/step - loss: 0.0018 - accuracy: 0.7148 - val_loss: 0.0017 - val_accuracy: 0.5695\n",
            "Epoch 103/200\n",
            "9/9 [==============================] - 3s 297ms/step - loss: 0.0017 - accuracy: 0.4774 - val_loss: 0.0017 - val_accuracy: 0.5078\n",
            "Epoch 104/200\n",
            "9/9 [==============================] - 3s 292ms/step - loss: 0.0016 - accuracy: 0.6534 - val_loss: 0.0017 - val_accuracy: 0.8829\n",
            "Epoch 105/200\n",
            "9/9 [==============================] - 3s 297ms/step - loss: 0.0016 - accuracy: 0.9205 - val_loss: 0.0016 - val_accuracy: 0.9320\n",
            "Epoch 106/200\n",
            "9/9 [==============================] - 3s 299ms/step - loss: 0.0016 - accuracy: 0.8994 - val_loss: 0.0016 - val_accuracy: 0.8440\n",
            "Epoch 107/200\n",
            "9/9 [==============================] - 3s 297ms/step - loss: 0.0016 - accuracy: 0.7839 - val_loss: 0.0016 - val_accuracy: 0.7262\n",
            "Epoch 108/200\n",
            "9/9 [==============================] - 3s 298ms/step - loss: 0.0015 - accuracy: 0.7761 - val_loss: 0.0015 - val_accuracy: 0.8239\n",
            "Epoch 109/200\n",
            "9/9 [==============================] - 3s 297ms/step - loss: 0.0015 - accuracy: 0.8532 - val_loss: 0.0015 - val_accuracy: 0.8676\n",
            "Epoch 110/200\n",
            "9/9 [==============================] - 3s 297ms/step - loss: 0.0015 - accuracy: 0.8005 - val_loss: 0.0015 - val_accuracy: 0.6126\n",
            "Epoch 111/200\n",
            "9/9 [==============================] - 3s 295ms/step - loss: 0.0015 - accuracy: 0.6940 - val_loss: 0.0015 - val_accuracy: 0.6918\n",
            "Epoch 112/200\n",
            "9/9 [==============================] - 3s 300ms/step - loss: 0.0015 - accuracy: 0.8208 - val_loss: 0.0015 - val_accuracy: 0.8667\n",
            "Epoch 113/200\n",
            "9/9 [==============================] - 3s 296ms/step - loss: 0.0014 - accuracy: 0.7875 - val_loss: 0.0014 - val_accuracy: 0.7301\n",
            "Epoch 114/200\n",
            "9/9 [==============================] - 3s 296ms/step - loss: 0.0014 - accuracy: 0.7980 - val_loss: 0.0014 - val_accuracy: 0.8510\n",
            "Epoch 115/200\n",
            "9/9 [==============================] - 3s 296ms/step - loss: 0.0014 - accuracy: 0.7449 - val_loss: 0.0014 - val_accuracy: 0.6269\n",
            "Epoch 116/200\n",
            "9/9 [==============================] - 3s 297ms/step - loss: 0.0014 - accuracy: 0.7736 - val_loss: 0.0014 - val_accuracy: 0.8675\n",
            "Epoch 117/200\n",
            "9/9 [==============================] - 3s 295ms/step - loss: 0.0014 - accuracy: 0.8703 - val_loss: 0.0014 - val_accuracy: 0.8460\n",
            "Epoch 118/200\n",
            "9/9 [==============================] - 3s 297ms/step - loss: 0.0014 - accuracy: 0.6902 - val_loss: 0.0014 - val_accuracy: 0.7083\n",
            "Epoch 119/200\n",
            "9/9 [==============================] - 3s 299ms/step - loss: 0.0013 - accuracy: 0.8154 - val_loss: 0.0013 - val_accuracy: 0.8661\n",
            "Epoch 120/200\n",
            "9/9 [==============================] - 3s 300ms/step - loss: 0.0013 - accuracy: 0.8589 - val_loss: 0.0013 - val_accuracy: 0.7832\n",
            "Epoch 121/200\n",
            "9/9 [==============================] - 3s 298ms/step - loss: 0.0013 - accuracy: 0.8694 - val_loss: 0.0013 - val_accuracy: 0.8822\n",
            "Epoch 122/200\n",
            "9/9 [==============================] - 3s 298ms/step - loss: 0.0013 - accuracy: 0.8848 - val_loss: 0.0013 - val_accuracy: 0.8455\n",
            "Epoch 123/200\n",
            "9/9 [==============================] - 3s 301ms/step - loss: 0.0013 - accuracy: 0.7361 - val_loss: 0.0013 - val_accuracy: 0.6022\n",
            "Epoch 124/200\n",
            "9/9 [==============================] - 3s 296ms/step - loss: 0.0013 - accuracy: 0.6150 - val_loss: 0.0013 - val_accuracy: 0.6290\n",
            "Epoch 125/200\n",
            "9/9 [==============================] - 3s 296ms/step - loss: 0.0012 - accuracy: 0.6453 - val_loss: 0.0012 - val_accuracy: 0.6859\n",
            "Epoch 126/200\n",
            "9/9 [==============================] - 3s 294ms/step - loss: 0.0012 - accuracy: 0.7196 - val_loss: 0.0012 - val_accuracy: 0.8072\n",
            "Epoch 127/200\n",
            "9/9 [==============================] - 3s 294ms/step - loss: 0.0012 - accuracy: 0.8493 - val_loss: 0.0012 - val_accuracy: 0.8683\n",
            "Epoch 128/200\n",
            "9/9 [==============================] - 3s 298ms/step - loss: 0.0012 - accuracy: 0.8903 - val_loss: 0.0012 - val_accuracy: 0.8847\n",
            "Epoch 129/200\n",
            "9/9 [==============================] - 3s 299ms/step - loss: 0.0012 - accuracy: 0.7847 - val_loss: 0.0012 - val_accuracy: 0.6243\n",
            "Epoch 130/200\n",
            "9/9 [==============================] - 3s 293ms/step - loss: 0.0012 - accuracy: 0.7121 - val_loss: 0.0012 - val_accuracy: 0.8066\n",
            "Epoch 131/200\n",
            "9/9 [==============================] - 3s 300ms/step - loss: 0.0012 - accuracy: 0.7848 - val_loss: 0.0012 - val_accuracy: 0.8539\n",
            "Epoch 132/200\n",
            "9/9 [==============================] - 3s 297ms/step - loss: 0.0012 - accuracy: 0.8604 - val_loss: 0.0012 - val_accuracy: 0.8715\n",
            "Epoch 133/200\n",
            "9/9 [==============================] - 3s 295ms/step - loss: 0.0011 - accuracy: 0.8070 - val_loss: 0.0011 - val_accuracy: 0.6493\n",
            "Epoch 134/200\n",
            "9/9 [==============================] - 3s 296ms/step - loss: 0.0011 - accuracy: 0.7103 - val_loss: 0.0011 - val_accuracy: 0.7704\n",
            "Epoch 135/200\n",
            "9/9 [==============================] - 3s 295ms/step - loss: 0.0011 - accuracy: 0.8467 - val_loss: 0.0011 - val_accuracy: 0.8690\n",
            "Epoch 136/200\n",
            "9/9 [==============================] - 3s 293ms/step - loss: 0.0011 - accuracy: 0.8582 - val_loss: 0.0011 - val_accuracy: 0.7721\n",
            "Epoch 137/200\n",
            "9/9 [==============================] - 3s 294ms/step - loss: 0.0011 - accuracy: 0.7090 - val_loss: 0.0011 - val_accuracy: 0.7026\n",
            "Epoch 138/200\n",
            "9/9 [==============================] - 3s 295ms/step - loss: 0.0011 - accuracy: 0.7878 - val_loss: 0.0011 - val_accuracy: 0.8582\n",
            "Epoch 139/200\n",
            "9/9 [==============================] - 3s 292ms/step - loss: 0.0011 - accuracy: 0.8682 - val_loss: 0.0011 - val_accuracy: 0.8678\n",
            "Epoch 140/200\n",
            "9/9 [==============================] - 3s 299ms/step - loss: 0.0011 - accuracy: 0.8235 - val_loss: 0.0011 - val_accuracy: 0.7161\n",
            "Epoch 141/200\n",
            "9/9 [==============================] - 3s 297ms/step - loss: 0.0011 - accuracy: 0.6252 - val_loss: 0.0011 - val_accuracy: 0.6145\n",
            "Epoch 142/200\n",
            "9/9 [==============================] - 3s 297ms/step - loss: 0.0010 - accuracy: 0.7170 - val_loss: 0.0011 - val_accuracy: 0.8543\n",
            "Epoch 143/200\n",
            "9/9 [==============================] - 3s 294ms/step - loss: 0.0010 - accuracy: 0.7721 - val_loss: 0.0010 - val_accuracy: 0.7001\n",
            "Epoch 144/200\n",
            "9/9 [==============================] - 3s 300ms/step - loss: 0.0010 - accuracy: 0.7158 - val_loss: 0.0010 - val_accuracy: 0.7257\n",
            "Epoch 145/200\n",
            "9/9 [==============================] - 3s 293ms/step - loss: 0.0010 - accuracy: 0.6994 - val_loss: 0.0010 - val_accuracy: 0.7401\n",
            "Epoch 146/200\n",
            "9/9 [==============================] - 3s 297ms/step - loss: 0.0010 - accuracy: 0.8380 - val_loss: 0.0010 - val_accuracy: 0.8739\n",
            "Epoch 147/200\n",
            "9/9 [==============================] - 3s 295ms/step - loss: 9.9824e-04 - accuracy: 0.8663 - val_loss: 0.0010 - val_accuracy: 0.7890\n",
            "Epoch 148/200\n",
            "9/9 [==============================] - 3s 298ms/step - loss: 9.9079e-04 - accuracy: 0.7222 - val_loss: 0.0010 - val_accuracy: 0.6643\n",
            "Epoch 149/200\n",
            "9/9 [==============================] - 3s 293ms/step - loss: 9.8261e-04 - accuracy: 0.7543 - val_loss: 9.8985e-04 - val_accuracy: 0.7537\n",
            "Epoch 150/200\n",
            "9/9 [==============================] - 3s 294ms/step - loss: 9.7700e-04 - accuracy: 0.8324 - val_loss: 9.8316e-04 - val_accuracy: 0.8563\n",
            "Epoch 151/200\n",
            "9/9 [==============================] - 3s 297ms/step - loss: 9.7063e-04 - accuracy: 0.8295 - val_loss: 9.9917e-04 - val_accuracy: 0.8092\n",
            "Epoch 152/200\n",
            "9/9 [==============================] - 3s 292ms/step - loss: 9.6447e-04 - accuracy: 0.8693 - val_loss: 9.6999e-04 - val_accuracy: 0.8689\n",
            "Epoch 153/200\n",
            "9/9 [==============================] - 3s 295ms/step - loss: 9.5494e-04 - accuracy: 0.8089 - val_loss: 9.5966e-04 - val_accuracy: 0.7457\n",
            "Epoch 154/200\n",
            "9/9 [==============================] - 3s 299ms/step - loss: 9.4564e-04 - accuracy: 0.7696 - val_loss: 9.5312e-04 - val_accuracy: 0.8573\n",
            "Epoch 155/200\n",
            "9/9 [==============================] - 3s 297ms/step - loss: 9.3925e-04 - accuracy: 0.8791 - val_loss: 9.4731e-04 - val_accuracy: 0.8814\n",
            "Epoch 156/200\n",
            "9/9 [==============================] - 3s 296ms/step - loss: 9.3137e-04 - accuracy: 0.8103 - val_loss: 9.4098e-04 - val_accuracy: 0.6845\n",
            "Epoch 157/200\n",
            "9/9 [==============================] - 3s 290ms/step - loss: 9.2555e-04 - accuracy: 0.7362 - val_loss: 9.3367e-04 - val_accuracy: 0.7885\n",
            "Epoch 158/200\n",
            "9/9 [==============================] - 3s 297ms/step - loss: 9.1916e-04 - accuracy: 0.8571 - val_loss: 9.4921e-04 - val_accuracy: 0.8718\n",
            "Epoch 159/200\n",
            "9/9 [==============================] - 3s 295ms/step - loss: 9.1806e-04 - accuracy: 0.8908 - val_loss: 9.2512e-04 - val_accuracy: 0.8747\n",
            "Epoch 160/200\n",
            "9/9 [==============================] - 3s 295ms/step - loss: 9.1383e-04 - accuracy: 0.8540 - val_loss: 9.1757e-04 - val_accuracy: 0.7835\n",
            "Epoch 161/200\n",
            "9/9 [==============================] - 3s 295ms/step - loss: 9.0523e-04 - accuracy: 0.6800 - val_loss: 9.1284e-04 - val_accuracy: 0.6256\n",
            "Epoch 162/200\n",
            "9/9 [==============================] - 3s 297ms/step - loss: 8.9520e-04 - accuracy: 0.6324 - val_loss: 9.0465e-04 - val_accuracy: 0.6458\n",
            "Epoch 163/200\n",
            "9/9 [==============================] - 3s 297ms/step - loss: 8.8975e-04 - accuracy: 0.6888 - val_loss: 9.1279e-04 - val_accuracy: 0.7514\n",
            "Epoch 164/200\n",
            "9/9 [==============================] - 3s 301ms/step - loss: 8.8665e-04 - accuracy: 0.8109 - val_loss: 8.9570e-04 - val_accuracy: 0.8115\n",
            "Epoch 165/200\n",
            "9/9 [==============================] - 3s 298ms/step - loss: 8.7990e-04 - accuracy: 0.8049 - val_loss: 8.8891e-04 - val_accuracy: 0.7489\n",
            "Epoch 166/200\n",
            "9/9 [==============================] - 3s 295ms/step - loss: 8.7424e-04 - accuracy: 0.7211 - val_loss: 8.8288e-04 - val_accuracy: 0.6688\n",
            "Epoch 167/200\n",
            "9/9 [==============================] - 3s 297ms/step - loss: 8.6835e-04 - accuracy: 0.6684 - val_loss: 8.7620e-04 - val_accuracy: 0.6883\n",
            "Epoch 168/200\n",
            "9/9 [==============================] - 3s 298ms/step - loss: 8.6419e-04 - accuracy: 0.8069 - val_loss: 8.8185e-04 - val_accuracy: 0.8767\n",
            "Epoch 169/200\n",
            "9/9 [==============================] - 3s 297ms/step - loss: 8.6027e-04 - accuracy: 0.8289 - val_loss: 8.6835e-04 - val_accuracy: 0.7380\n",
            "Epoch 170/200\n",
            "9/9 [==============================] - 3s 293ms/step - loss: 8.5563e-04 - accuracy: 0.6723 - val_loss: 8.7572e-04 - val_accuracy: 0.6259\n",
            "Epoch 171/200\n",
            "9/9 [==============================] - 3s 296ms/step - loss: 8.5121e-04 - accuracy: 0.6539 - val_loss: 8.6264e-04 - val_accuracy: 0.6632\n",
            "Epoch 172/200\n",
            "9/9 [==============================] - 3s 296ms/step - loss: 8.4762e-04 - accuracy: 0.6766 - val_loss: 8.5878e-04 - val_accuracy: 0.6908\n",
            "Epoch 173/200\n",
            "9/9 [==============================] - 3s 298ms/step - loss: 8.4152e-04 - accuracy: 0.7094 - val_loss: 8.4864e-04 - val_accuracy: 0.7885\n",
            "Epoch 174/200\n",
            "9/9 [==============================] - 3s 295ms/step - loss: 8.3532e-04 - accuracy: 0.8087 - val_loss: 8.4560e-04 - val_accuracy: 0.7783\n",
            "Epoch 175/200\n",
            "9/9 [==============================] - 3s 295ms/step - loss: 8.3147e-04 - accuracy: 0.7044 - val_loss: 8.3968e-04 - val_accuracy: 0.6568\n",
            "Epoch 176/200\n",
            "9/9 [==============================] - 3s 297ms/step - loss: 8.2843e-04 - accuracy: 0.6747 - val_loss: 8.3598e-04 - val_accuracy: 0.6506\n",
            "Epoch 177/200\n",
            "9/9 [==============================] - 3s 297ms/step - loss: 8.2506e-04 - accuracy: 0.6501 - val_loss: 8.3208e-04 - val_accuracy: 0.6609\n",
            "Epoch 178/200\n",
            "9/9 [==============================] - 3s 293ms/step - loss: 8.2214e-04 - accuracy: 0.7569 - val_loss: 8.4324e-04 - val_accuracy: 0.8622\n",
            "Epoch 179/200\n",
            "9/9 [==============================] - 3s 298ms/step - loss: 8.1773e-04 - accuracy: 0.7229 - val_loss: 8.2326e-04 - val_accuracy: 0.6561\n",
            "Epoch 180/200\n",
            "9/9 [==============================] - 3s 293ms/step - loss: 8.1152e-04 - accuracy: 0.6191 - val_loss: 8.1969e-04 - val_accuracy: 0.6136\n",
            "Epoch 181/200\n",
            "9/9 [==============================] - 3s 300ms/step - loss: 8.0715e-04 - accuracy: 0.6469 - val_loss: 8.1565e-04 - val_accuracy: 0.6711\n",
            "Epoch 182/200\n",
            "9/9 [==============================] - 3s 299ms/step - loss: 8.0546e-04 - accuracy: 0.6631 - val_loss: 8.1329e-04 - val_accuracy: 0.6560\n",
            "Epoch 183/200\n",
            "9/9 [==============================] - 3s 298ms/step - loss: 8.0044e-04 - accuracy: 0.6652 - val_loss: 8.0851e-04 - val_accuracy: 0.6527\n",
            "Epoch 184/200\n",
            "9/9 [==============================] - 3s 294ms/step - loss: 7.9712e-04 - accuracy: 0.6276 - val_loss: 8.0528e-04 - val_accuracy: 0.6276\n",
            "Epoch 185/200\n",
            "9/9 [==============================] - 3s 296ms/step - loss: 7.9285e-04 - accuracy: 0.6527 - val_loss: 8.0207e-04 - val_accuracy: 0.6543\n",
            "Epoch 186/200\n",
            "9/9 [==============================] - 3s 295ms/step - loss: 7.8965e-04 - accuracy: 0.6664 - val_loss: 7.9828e-04 - val_accuracy: 0.6674\n",
            "Epoch 187/200\n",
            "9/9 [==============================] - 3s 296ms/step - loss: 7.8761e-04 - accuracy: 0.6608 - val_loss: 8.0212e-04 - val_accuracy: 0.6570\n",
            "Epoch 188/200\n",
            "9/9 [==============================] - 3s 298ms/step - loss: 7.8472e-04 - accuracy: 0.6687 - val_loss: 7.9590e-04 - val_accuracy: 0.6718\n",
            "Epoch 189/200\n",
            "9/9 [==============================] - 3s 293ms/step - loss: 7.8229e-04 - accuracy: 0.6504 - val_loss: 7.8932e-04 - val_accuracy: 0.6316\n",
            "Epoch 190/200\n",
            "9/9 [==============================] - 3s 301ms/step - loss: 7.7826e-04 - accuracy: 0.6545 - val_loss: 7.8958e-04 - val_accuracy: 0.6598\n",
            "Epoch 191/200\n",
            "9/9 [==============================] - 3s 294ms/step - loss: 7.7835e-04 - accuracy: 0.6380 - val_loss: 7.8513e-04 - val_accuracy: 0.6237\n",
            "Epoch 192/200\n",
            "9/9 [==============================] - 3s 299ms/step - loss: 7.7254e-04 - accuracy: 0.6330 - val_loss: 7.8021e-04 - val_accuracy: 0.6478\n",
            "Epoch 193/200\n",
            "9/9 [==============================] - 3s 296ms/step - loss: 7.6876e-04 - accuracy: 0.6554 - val_loss: 7.7729e-04 - val_accuracy: 0.6493\n",
            "Epoch 194/200\n",
            "9/9 [==============================] - 3s 296ms/step - loss: 7.6559e-04 - accuracy: 0.6501 - val_loss: 7.7902e-04 - val_accuracy: 0.6450\n",
            "Epoch 195/200\n",
            "9/9 [==============================] - 3s 294ms/step - loss: 7.6417e-04 - accuracy: 0.6579 - val_loss: 7.7335e-04 - val_accuracy: 0.6437\n",
            "Epoch 196/200\n",
            "9/9 [==============================] - 3s 297ms/step - loss: 7.6272e-04 - accuracy: 0.6461 - val_loss: 7.7001e-04 - val_accuracy: 0.6485\n",
            "Epoch 197/200\n",
            "9/9 [==============================] - 3s 296ms/step - loss: 7.5984e-04 - accuracy: 0.6653 - val_loss: 7.6589e-04 - val_accuracy: 0.6510\n",
            "Epoch 198/200\n",
            "9/9 [==============================] - 3s 298ms/step - loss: 7.5654e-04 - accuracy: 0.6213 - val_loss: 7.6395e-04 - val_accuracy: 0.5856\n",
            "Epoch 199/200\n",
            "9/9 [==============================] - 3s 293ms/step - loss: 7.5534e-04 - accuracy: 0.6235 - val_loss: 7.6105e-04 - val_accuracy: 0.6505\n",
            "Epoch 200/200\n",
            "9/9 [==============================] - 3s 294ms/step - loss: 7.5137e-04 - accuracy: 0.6632 - val_loss: 7.6125e-04 - val_accuracy: 0.6389\n",
            "INFO:tensorflow:Assets written to: drive/MyDrive/AFP-ML/trained-models/autoencoder_11-10-2021_18-00-41/assets\n"
          ]
        }
      ]
    },
    {
      "cell_type": "markdown",
      "metadata": {
        "id": "VQX4qj9Y8pFz"
      },
      "source": [
        "## Load trained model instead"
      ]
    },
    {
      "cell_type": "code",
      "metadata": {
        "id": "d3GdoNGA8pF0"
      },
      "source": [
        "loadedModelPath = \"drive/MyDrive/AFP-ML/trained-models/trained-modelsautoencoder_13-08-2021_11-15-33\"\n",
        "\n",
        "autoencoder, history = loadTrainedModel(loadedModelPath)"
      ],
      "execution_count": 20,
      "outputs": []
    },
    {
      "cell_type": "markdown",
      "metadata": {
        "id": "Zzxs7FnT8pF0"
      },
      "source": [
        "## Calculate results"
      ]
    },
    {
      "cell_type": "code",
      "metadata": {
        "id": "EoAxdkP48pF0",
        "colab": {
          "base_uri": "https://localhost:8080/",
          "height": 1000
        },
        "outputId": "da21817c-3acd-4653-e218-ba03a512582c"
      },
      "source": [
        "singleInputShape = {\"x\": 336, \"y\": 80, \"channels\": 4}\n",
        "shownEventNumber = 1\n",
        "\n",
        "plotResults(autoencoder, validateEvents, singleInputShape, history, shownEventNumber)"
      ],
      "execution_count": 68,
      "outputs": [
        {
          "output_type": "display_data",
          "data": {
            "image/png": "[encoded data removed]",
            "text/plain": [
              "<Figure size 432x288 with 1 Axes>"
            ]
          },
          "metadata": {
            "needs_background": "light"
          }
        },
        {
          "output_type": "display_data",
          "data": {
            "image/png": "[encoded data removed]",
            "text/plain": [
              "<Figure size 432x288 with 1 Axes>"
            ]
          },
          "metadata": {
            "needs_background": "light"
          }
        },
        {
          "output_type": "stream",
          "name": "stdout",
          "text": [
            "Reconstruction error threshold:  8.875e-05\n"
          ]
        },
        {
          "output_type": "display_data",
          "data": {
            "image/png": "[encoded data removed]",
            "text/plain": [
              "<Figure size 432x288 with 1 Axes>"
            ]
          },
          "metadata": {
            "needs_background": "light"
          }
        },
        {
          "output_type": "display_data",
          "data": {
            "image/png": "[encoded data removed]",
            "text/plain": [
              "<Figure size 432x288 with 1 Axes>"
            ]
          },
          "metadata": {
            "needs_background": "light"
          }
        },
        {
          "output_type": "display_data",
          "data": {
            "image/png": "[encoded data removed]",
            "text/plain": [
              "<Figure size 4000x800 with 8 Axes>"
            ]
          },
          "metadata": {
            "needs_background": "light"
          }
        }
      ]
    }
  ]
}