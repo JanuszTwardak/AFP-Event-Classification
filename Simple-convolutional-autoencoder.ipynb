{
 "cells": [
  {
   "cell_type": "markdown",
   "source": [
    "# **CODE**"
   ],
   "metadata": {}
  },
  {
   "cell_type": "markdown",
   "source": [
    "## Load and prepare data"
   ],
   "metadata": {}
  },
  {
   "cell_type": "code",
   "execution_count": 7,
   "source": [
    "import numpy as np\n",
    "def prepareData(dataInputPath, validateFraction):\n",
    "\n",
    "    trainEvents = np.load(dataInputPath)\n",
    "    validateSize = int(len(trainEvents) * validateFraction)\n",
    "    \n",
    "    validateEvents = np.array(trainEvents[-validateSize:])\n",
    "    trainEvents = np.array(trainEvents[:-validateSize])\n",
    "\n",
    "    trainEvents = trainEvents.astype('float16')\n",
    "    validateEvents = validateEvents.astype('float16')\n",
    "\n",
    "    return [trainEvents, validateEvents]"
   ],
   "outputs": [],
   "metadata": {}
  },
  {
   "cell_type": "markdown",
   "source": [
    "## Create and train network"
   ],
   "metadata": {}
  },
  {
   "cell_type": "code",
   "execution_count": 8,
   "source": [
    "import tensorflow as tf\n",
    "import keras\n",
    "from keras import layers\n",
    "import pickle\n",
    "\n",
    "def trainNeuralNetwork(modelOutputPath, trainEvents, validateEvents, singleInputShape, parameters):\n",
    "\n",
    "    encoderInput = keras.Input(shape=(singleInputShape['x'], singleInputShape['y'], singleInputShape['channels']))\n",
    "\n",
    "    x = layers.Conv2D(16, (4,3), activation='relu', padding='same')(encoderInput)\n",
    "    x = layers.MaxPooling2D(pool_size=(4,4))(x)\n",
    "\n",
    "    x = layers.Conv2D(32, (4,3), activation='relu', padding='same', kernel_regularizer=tf.keras.regularizers.l2(l=0.0001))(x)\n",
    "    x = layers.MaxPooling2D(pool_size=(4,4))(x)\n",
    "\n",
    "    x = layers.Conv2D(64, (4,3), activation='relu', padding='same', kernel_regularizer=tf.keras.regularizers.l2(l=0.0001))(x)\n",
    "\n",
    "    x = layers.Conv2D(64, (4,4), activation='relu', padding='same', kernel_regularizer=tf.keras.regularizers.l2(l=0.0001))(x)\n",
    "    x = layers.UpSampling2D((4,4))(x)\n",
    "\n",
    "    x = layers.Conv2D(32, (4,3), activation='relu', padding='same', kernel_regularizer=tf.keras.regularizers.l2(l=0.0001))(x)\n",
    "    x = layers.UpSampling2D((4,4))(x)\n",
    "\n",
    "    decoderOutput = layers.Conv2D(4, (4,3), activation='sigmoid', padding='same')(x)\n",
    "\n",
    "    autoencoder = keras.Model(encoderInput, decoderOutput, name=\"autoencoder\")\n",
    "    autoencoder.summary()\n",
    "\n",
    "    autoencoder.compile(optimizer='adam', loss='binary_crossentropy', metrics=['accuracy'])\n",
    "    history = autoencoder.fit(trainEvents, trainEvents,\n",
    "                epochs = parameters[\"epochs\"],\n",
    "                batch_size= parameters[\"batchSize\"],\n",
    "                shuffle = True,\n",
    "                validation_data = (validateEvents, validateEvents))\n",
    "\n",
    "    if modelOutputPath == 'default':\n",
    "        import time\n",
    "        path = time.strftime(\"trained-models/autoencoder_%d-%m-%Y_%H-%M-%S\")\n",
    "        autoencoder.save(path)\n",
    "        f = open(path + '/history.pckl', 'wb')\n",
    "        pickle.dump(history.history, f)\n",
    "        f.close()\n",
    "\n",
    "    elif modelOutputPath != '0':\n",
    "        autoencoder.save(modelOutputPath)\n",
    "        f = open(path + '/history.pckl', 'wb')\n",
    "        pickle.dump(history.history, f)\n",
    "        f.close()\n",
    "\n",
    "    return [history, autoencoder]"
   ],
   "outputs": [],
   "metadata": {}
  },
  {
   "cell_type": "markdown",
   "source": [
    "## Load trained network (instead)"
   ],
   "metadata": {}
  },
  {
   "cell_type": "code",
   "execution_count": 9,
   "source": [
    "import numpy as np\n",
    "import keras\n",
    "\n",
    "def loadTrainedModel(loadedModelPath):\n",
    "    f = open('history.pckl', 'rb')\n",
    "    history = pickle.load(f)\n",
    "    f.close()\n",
    "    return [keras.models.load_model(loadedModelPath), history]"
   ],
   "outputs": [],
   "metadata": {}
  },
  {
   "cell_type": "markdown",
   "source": [
    "## Plot results"
   ],
   "metadata": {}
  },
  {
   "cell_type": "code",
   "execution_count": 10,
   "source": [
    "import tensorflow as tf\n",
    "import matplotlib.pyplot as plt\n",
    "\n",
    "def plotResults(autoencoder, validateEvents, singleInputShape, history):\n",
    "    decodedEvents = autoencoder.predict(validateEvents)\n",
    "\n",
    "    calculateThresholds(decodedEvents, validateEvents, singleInputShape)\n",
    "\n",
    "def plotLossAccuracy(history):\n",
    "    plt.plot(history.history['loss'], label='train')\n",
    "    plt.plot(history.history['val_loss'], label='validation')\n",
    "    plt.title(\"cost function\")\n",
    "    plt.xlabel(\"epoch\")\n",
    "    plt.ylabel(\"cost\")\n",
    "    plt.legend()\n",
    "    plt.show()\n",
    "\n",
    "    plt.plot(history.history['accuracy'])\n",
    "    plt.plot(history.history['val_accuracy'])\n",
    "    plt.title('model accuracy')\n",
    "    plt.ylabel('accuracy')\n",
    "    plt.xlabel('epoch')\n",
    "    plt.legend(['train', 'validation'], loc='upper left')\n",
    "    plt.show()\n",
    "\n",
    "def calculateThresholds(decodedEvents, validateEvents, singleInputShape):\n",
    "\n",
    "    flatLength = singleInputShape[\"x\"] * singleInputShape[\"y\"] * singleInputShape[\"channels\"]\n",
    "    decodedEventsFlat = np.reshape(decodedEvents, [len(decodedEvents), flatLength])\n",
    "\n",
    "    # TODO repair reconstruction error, maybe change reshaping\n",
    "\n",
    "    validateEventsFlat = np.reshape(validateEvents, [len(decodedEvents), flatLength])\n",
    "    reconstructionErrors = tf.keras.losses.mse(decodedEventsFlat, validateEventsFlat)\n",
    "    decodedEventsFlat = None\n",
    "    validateEventsFlat = None\n",
    "\n",
    "    anomalyThreshold = np.mean(reconstructionErrors.numpy()) + np.std(reconstructionErrors.numpy())\n",
    "    print(\"Reconstruction error threshold: \", anomalyThreshold)\n",
    "\n",
    "    # Train MAE loss.\n",
    "    plt.axvline(anomalyThreshold, color='k', linestyle='dashed', linewidth=1)\n",
    "    plt.hist(reconstructionErrors, bins=100)\n",
    "    plt.xlabel(\"MSE loss\")\n",
    "    plt.ylabel(\"Number of samples\")\n",
    "    plt.show()\n",
    "\n",
    "    # Train MAE loss in logarithmic scale\n",
    "    plt.axvline(anomalyThreshold, color='k', linestyle='dashed', linewidth=1)\n",
    "    plt.hist(reconstructionErrors, bins=500)\n",
    "    plt.xlabel(\"MSE loss\")\n",
    "    plt.ylabel(\"Number of samples (log)\")\n",
    "    plt.yscale(\"log\")  \n",
    "    plt.show()\n",
    "\n",
    "\n",
    "   # n = 4  # How many digits we will display\n",
    "    # plt.figure(figsize=(20, 4), dpi=200)\n",
    "\n",
    "    # event_number = 200 # 1, 5, \n",
    "\n",
    "    # for i in range(0, n):\n",
    "    # # Display original\n",
    "    #     ax = plt.subplot(2, n, i + 1)\n",
    "    #     img=np.zeros((80,336))\n",
    "    #     for l,px in enumerate(x_test[i + event_number*4]):\n",
    "    #         for k,py in enumerate(px):\n",
    "    #             img[k][l]=py[0]\n",
    "    #     #plt.text(115, 95, 'Parabola $Y = x^2$', fontsize = 10)\n",
    "    #     plt.imshow(img)\n",
    "    #     plt.gray()\n",
    "    #     ax.get_xaxis().set_visible(False)\n",
    "    #     ax.get_yaxis().set_visible(False)\n",
    "\n",
    "    #     # Display reconstruction\n",
    "    #     ax = plt.subplot(2, n, i + 1 + n)\n",
    "    #     dec_img=np.zeros((80,336))\n",
    "    #     for l,px in enumerate(decoded_imgs[i + event_number*4]):\n",
    "    #         for k,py in enumerate(px):\n",
    "    #             dec_img[k][l]=py[0]\n",
    "\n",
    "\n",
    "    #     plt.imshow(dec_img)\n",
    "    #     plt.gray()\n",
    "    #     ax.get_xaxis().set_visible(False)\n",
    "    #     ax.get_yaxis().set_visible(False)\n",
    "\n",
    "\n",
    "\n",
    "    #     if error_values[event_number] < threshold:\n",
    "    #         plt.text(-580, -40, 'Reconstruction error: ' + str(error_values[event_number]), fontsize = 12)\n",
    "    #     else:\n",
    "    #         plt.text(-580, -40, 'Reconstruction error: ' + str(error_values[event_number]), fontsize = 12, color='r')\n",
    "    #     plt.show()\n",
    "    # n = 4  # How many digits we will display\n",
    "    # plt.figure(figsize=(20, 4), dpi=200)\n",
    "\n",
    "    # event_number = 200 # 1, 5, \n",
    "\n",
    "    # for i in range(0, n):\n",
    "    # # Display original\n",
    "    #     ax = plt.subplot(2, n, i + 1)\n",
    "    #     img=np.zeros((80,336))\n",
    "    #     for l,px in enumerate(x_test[i + event_number*4]):\n",
    "    #         for k,py in enumerate(px):\n",
    "    #             img[k][l]=py[0]\n",
    "    #     #plt.text(115, 95, 'Parabola $Y = x^2$', fontsize = 10)\n",
    "    #     plt.imshow(img)\n",
    "    #     plt.gray()\n",
    "    #     ax.get_xaxis().set_visible(False)\n",
    "    #     ax.get_yaxis().set_visible(False)\n",
    "\n",
    "    #     # Display reconstruction\n",
    "    #     ax = plt.subplot(2, n, i + 1 + n)\n",
    "    #     dec_img=np.zeros((80,336))\n",
    "    #     for l,px in enumerate(decoded_imgs[i + event_number*4]):\n",
    "    #         for k,py in enumerate(px):\n",
    "    #             dec_img[k][l]=py[0]\n",
    "\n",
    "\n",
    "    #     plt.imshow(dec_img)\n",
    "    #     plt.gray()\n",
    "    #     ax.get_xaxis().set_visible(False)\n",
    "    #     ax.get_yaxis().set_visible(False)\n",
    "\n",
    "\n",
    "\n",
    "    #     if error_values[event_number] < threshold:\n",
    "    #         plt.text(-580, -40, 'Reconstruction error: ' + str(error_values[event_number]), fontsize = 12)\n",
    "    #     else:\n",
    "    #         plt.text(-580, -40, 'Reconstruction error: ' + str(error_values[event_number]), fontsize = 12, color='r')\n",
    "    #     plt.show()"
   ],
   "outputs": [],
   "metadata": {}
  },
  {
   "cell_type": "markdown",
   "source": [
    "# RUN CODE"
   ],
   "metadata": {}
  },
  {
   "cell_type": "markdown",
   "source": [
    "## Load and prepare data"
   ],
   "metadata": {}
  },
  {
   "cell_type": "code",
   "execution_count": 11,
   "source": [
    "validateFraction = 0.1\n",
    "inputDataPath = \"input-data/331020_centr_trigger_all_2866.npy\"\n",
    "\n",
    "trainEvents, validateEvents = prepareData(inputDataPath, validateFraction)"
   ],
   "outputs": [],
   "metadata": {}
  },
  {
   "cell_type": "markdown",
   "source": [
    "## Create and train network"
   ],
   "metadata": {}
  },
  {
   "cell_type": "code",
   "execution_count": 12,
   "source": [
    "outputModelPath = \"default\"     # '0': don't save; 'default': save with default name\n",
    "parameters = {\"epochs\" : 1, \n",
    "              \"batchSize\" : 50}\n",
    "singleInputShape = {'x': 336, 'y': 80, 'channels': 4}\n",
    "\n",
    "history, autoencoder = trainNeuralNetwork(outputModelPath, trainEvents, validateEvents, singleInputShape, parameters)"
   ],
   "outputs": [
    {
     "output_type": "stream",
     "name": "stdout",
     "text": [
      "Model: \"autoencoder\"\n",
      "_________________________________________________________________\n",
      "Layer (type)                 Output Shape              Param #   \n",
      "=================================================================\n",
      "input_2 (InputLayer)         [(None, 336, 80, 4)]      0         \n",
      "_________________________________________________________________\n",
      "conv2d_6 (Conv2D)            (None, 336, 80, 16)       784       \n",
      "_________________________________________________________________\n",
      "max_pooling2d_2 (MaxPooling2 (None, 84, 20, 16)        0         \n",
      "_________________________________________________________________\n",
      "conv2d_7 (Conv2D)            (None, 84, 20, 32)        6176      \n",
      "_________________________________________________________________\n",
      "max_pooling2d_3 (MaxPooling2 (None, 21, 5, 32)         0         \n",
      "_________________________________________________________________\n",
      "conv2d_8 (Conv2D)            (None, 21, 5, 64)         24640     \n",
      "_________________________________________________________________\n",
      "conv2d_9 (Conv2D)            (None, 21, 5, 64)         65600     \n",
      "_________________________________________________________________\n",
      "up_sampling2d_2 (UpSampling2 (None, 84, 20, 64)        0         \n",
      "_________________________________________________________________\n",
      "conv2d_10 (Conv2D)           (None, 84, 20, 32)        24608     \n",
      "_________________________________________________________________\n",
      "up_sampling2d_3 (UpSampling2 (None, 336, 80, 32)       0         \n",
      "_________________________________________________________________\n",
      "conv2d_11 (Conv2D)           (None, 336, 80, 4)        1540      \n",
      "=================================================================\n",
      "Total params: 123,348\n",
      "Trainable params: 123,348\n",
      "Non-trainable params: 0\n",
      "_________________________________________________________________\n",
      "52/52 [==============================] - 84s 2s/step - loss: 0.3125 - accuracy: 0.1791 - val_loss: 0.0202 - val_accuracy: 0.0125\n",
      "INFO:tensorflow:Assets written to: trained-models/autoencoder_05-08-2021_11-47-30/assets\n"
     ]
    }
   ],
   "metadata": {}
  },
  {
   "cell_type": "markdown",
   "source": [
    "## Load trained model instead"
   ],
   "metadata": {}
  },
  {
   "cell_type": "code",
   "execution_count": 13,
   "source": [
    "loadedModelPath = \"trained-models/autoencoder_04-08-2021_11-14-36\"\n",
    "\n",
    "autoencoder, history = loadTrainedModel(loadedModelPath)"
   ],
   "outputs": [
    {
     "output_type": "error",
     "ename": "FileNotFoundError",
     "evalue": "[Errno 2] No such file or directory: 'history.pckl'",
     "traceback": [
      "\u001b[0;31m---------------------------------------------------------------------------\u001b[0m",
      "\u001b[0;31mFileNotFoundError\u001b[0m                         Traceback (most recent call last)",
      "\u001b[0;32m<ipython-input-13-f7b869b3cf91>\u001b[0m in \u001b[0;36m<module>\u001b[0;34m\u001b[0m\n\u001b[1;32m      1\u001b[0m \u001b[0mloadedModelPath\u001b[0m \u001b[0;34m=\u001b[0m \u001b[0;34m\"trained-models/autoencoder_04-08-2021_11-14-36\"\u001b[0m\u001b[0;34m\u001b[0m\u001b[0;34m\u001b[0m\u001b[0m\n\u001b[1;32m      2\u001b[0m \u001b[0;34m\u001b[0m\u001b[0m\n\u001b[0;32m----> 3\u001b[0;31m \u001b[0mautoencoder\u001b[0m\u001b[0;34m,\u001b[0m \u001b[0mhistory\u001b[0m \u001b[0;34m=\u001b[0m \u001b[0mloadTrainedModel\u001b[0m\u001b[0;34m(\u001b[0m\u001b[0mloadedModelPath\u001b[0m\u001b[0;34m)\u001b[0m\u001b[0;34m\u001b[0m\u001b[0;34m\u001b[0m\u001b[0m\n\u001b[0m",
      "\u001b[0;32m<ipython-input-9-f7e01fe036d5>\u001b[0m in \u001b[0;36mloadTrainedModel\u001b[0;34m(loadedModelPath)\u001b[0m\n\u001b[1;32m      3\u001b[0m \u001b[0;34m\u001b[0m\u001b[0m\n\u001b[1;32m      4\u001b[0m \u001b[0;32mdef\u001b[0m \u001b[0mloadTrainedModel\u001b[0m\u001b[0;34m(\u001b[0m\u001b[0mloadedModelPath\u001b[0m\u001b[0;34m)\u001b[0m\u001b[0;34m:\u001b[0m\u001b[0;34m\u001b[0m\u001b[0;34m\u001b[0m\u001b[0m\n\u001b[0;32m----> 5\u001b[0;31m     \u001b[0mf\u001b[0m \u001b[0;34m=\u001b[0m \u001b[0mopen\u001b[0m\u001b[0;34m(\u001b[0m\u001b[0;34m'history.pckl'\u001b[0m\u001b[0;34m,\u001b[0m \u001b[0;34m'rb'\u001b[0m\u001b[0;34m)\u001b[0m\u001b[0;34m\u001b[0m\u001b[0;34m\u001b[0m\u001b[0m\n\u001b[0m\u001b[1;32m      6\u001b[0m     \u001b[0mhistory\u001b[0m \u001b[0;34m=\u001b[0m \u001b[0mpickle\u001b[0m\u001b[0;34m.\u001b[0m\u001b[0mload\u001b[0m\u001b[0;34m(\u001b[0m\u001b[0mf\u001b[0m\u001b[0;34m)\u001b[0m\u001b[0;34m\u001b[0m\u001b[0;34m\u001b[0m\u001b[0m\n\u001b[1;32m      7\u001b[0m     \u001b[0mf\u001b[0m\u001b[0;34m.\u001b[0m\u001b[0mclose\u001b[0m\u001b[0;34m(\u001b[0m\u001b[0;34m)\u001b[0m\u001b[0;34m\u001b[0m\u001b[0;34m\u001b[0m\u001b[0m\n",
      "\u001b[0;31mFileNotFoundError\u001b[0m: [Errno 2] No such file or directory: 'history.pckl'"
     ]
    }
   ],
   "metadata": {}
  },
  {
   "cell_type": "markdown",
   "source": [
    "## Calculate results"
   ],
   "metadata": {}
  },
  {
   "cell_type": "code",
   "execution_count": null,
   "source": [
    "singleInputShape = {'x': 336, 'y': 80, 'channels': 4}\n",
    "\n",
    "plotResults(autoencoder, validateEvents, singleInputShape)"
   ],
   "outputs": [
    {
     "output_type": "stream",
     "name": "stdout",
     "text": [
      "Reconstruction error threshold:  0.0\n"
     ]
    },
    {
     "output_type": "display_data",
     "data": {
      "text/plain": [
       "<Figure size 432x288 with 1 Axes>"
      ],
      "image/png": "[encoded data removed]"
     },
     "metadata": {
      "needs_background": "light"
     }
    },
    {
     "output_type": "display_data",
     "data": {
      "text/plain": [
       "<Figure size 432x288 with 1 Axes>"
      ],
      "image/png": "[encoded data removed]"
     },
     "metadata": {
      "needs_background": "light"
     }
    }
   ],
   "metadata": {}
  }
 ],
 "metadata": {
  "orig_nbformat": 4,
  "language_info": {
   "name": "python",
   "version": "3.9.5",
   "mimetype": "text/x-python",
   "codemirror_mode": {
    "name": "ipython",
    "version": 3
   },
   "pygments_lexer": "ipython3",
   "nbconvert_exporter": "python",
   "file_extension": ".py"
  },
  "kernelspec": {
   "name": "python3",
   "display_name": "Python 3.9.5 64-bit ('ml_keras': conda)"
  },
  "interpreter": {
   "hash": "1f48a59c72beef8967160b80148c71f83d27309566674d8e15ec323615c4e8ce"
  }
 },
 "nbformat": 4,
 "nbformat_minor": 2
}