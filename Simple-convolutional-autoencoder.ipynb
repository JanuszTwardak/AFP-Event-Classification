{
  "nbformat": 4,
  "nbformat_minor": 0,
  "metadata": {
    "orig_nbformat": 4,
    "language_info": {
      "name": "python",
      "version": "3.9.5",
      "mimetype": "text/x-python",
      "codemirror_mode": {
        "name": "ipython",
        "version": 3
      },
      "pygments_lexer": "ipython3",
      "nbconvert_exporter": "python",
      "file_extension": ".py"
    },
    "kernelspec": {
      "name": "python3",
      "display_name": "Python 3.9.5 64-bit ('ml_keras': conda)"
    },
    "interpreter": {
      "hash": "1f48a59c72beef8967160b80148c71f83d27309566674d8e15ec323615c4e8ce"
    },
    "colab": {
      "name": "Simple-convolutional-autoencoder.ipynb",
      "provenance": [],
      "toc_visible": true
    },
    "accelerator": "GPU"
  },
  "cells": [
    {
      "cell_type": "code",
      "metadata": {
        "id": "9ReUqdShB5to",
        "outputId": "7b2ff19c-1fae-430d-e13d-37437fabec1b",
        "colab": {
          "base_uri": "https://localhost:8080/"
        }
      },
      "source": [
        "from google.colab import drive\n",
        "drive.mount('/content/drive')"
      ],
      "execution_count": 1,
      "outputs": [
        {
          "output_type": "stream",
          "text": [
            "Mounted at /content/drive\n"
          ],
          "name": "stdout"
        }
      ]
    },
    {
      "cell_type": "markdown",
      "metadata": {
        "id": "DIWPD5U88pFj"
      },
      "source": [
        "# **SET FUNCTIONS**"
      ]
    },
    {
      "cell_type": "markdown",
      "metadata": {
        "id": "MIsz-dsS8pFn"
      },
      "source": [
        "## Load and prepare data"
      ]
    },
    {
      "cell_type": "code",
      "metadata": {
        "id": "Agzkcc0j8pFo"
      },
      "source": [
        "import numpy as np\n",
        "def prepareData(dataInputPath, validateFraction):\n",
        "\n",
        "    trainEvents = np.load(dataInputPath)\n",
        "    validateSize = int(len(trainEvents) * validateFraction)\n",
        "    \n",
        "    validateEvents = np.array(trainEvents[-validateSize:])\n",
        "    trainEvents = np.array(trainEvents[:-validateSize])\n",
        "\n",
        "    trainEvents = trainEvents.astype('float16')\n",
        "    validateEvents = validateEvents.astype('float16')\n",
        "\n",
        "    return [trainEvents, validateEvents]"
      ],
      "execution_count": 2,
      "outputs": []
    },
    {
      "cell_type": "markdown",
      "metadata": {
        "id": "hPKVJHOP8pFq"
      },
      "source": [
        "## Create and prepare network"
      ]
    },
    {
      "cell_type": "code",
      "metadata": {
        "id": "bLLAMhoq8pFr"
      },
      "source": [
        "import tensorflow as tf\n",
        "import keras\n",
        "from keras import layers\n",
        "import pickle\n",
        "\n",
        "def trainNeuralNetwork(modelOutputPath, trainEvents, validateEvents, singleInputShape, parameters):\n",
        "\n",
        "    encoderInput = keras.Input(shape=(singleInputShape['x'], singleInputShape['y'], singleInputShape['channels']))\n",
        "\n",
        "    x = layers.Conv2D(16, (4,3), activation='relu', padding='same')(encoderInput)\n",
        "    x = layers.MaxPooling2D(pool_size=(4,4))(x)\n",
        "\n",
        "    x = layers.Conv2D(32, (4,3), activation='relu', padding='same', kernel_regularizer=tf.keras.regularizers.l2(l=0.0001))(x)\n",
        "    x = layers.MaxPooling2D(pool_size=(4,4))(x)\n",
        "\n",
        "    x = layers.Conv2D(64, (4,3), activation='relu', padding='same', kernel_regularizer=tf.keras.regularizers.l2(l=0.0001))(x)\n",
        "\n",
        "    x = layers.Conv2D(64, (4,4), activation='relu', padding='same', kernel_regularizer=tf.keras.regularizers.l2(l=0.0001))(x)\n",
        "    x = layers.UpSampling2D((4,4))(x)\n",
        "\n",
        "    x = layers.Conv2D(32, (4,3), activation='relu', padding='same', kernel_regularizer=tf.keras.regularizers.l2(l=0.0001))(x)\n",
        "    x = layers.UpSampling2D((4,4))(x)\n",
        "\n",
        "    decoderOutput = layers.Conv2D(4, (4,3), activation='sigmoid', padding='same')(x)\n",
        "\n",
        "    autoencoder = keras.Model(encoderInput, decoderOutput, name=\"autoencoder\")\n",
        "    autoencoder.summary()\n",
        "\n",
        "    autoencoder.compile(optimizer='adam', loss='binary_crossentropy', metrics=['accuracy'])\n",
        "    history = autoencoder.fit(trainEvents, trainEvents,\n",
        "                epochs = parameters[\"epochs\"],\n",
        "                batch_size= parameters[\"batchSize\"],\n",
        "                shuffle = True,\n",
        "                validation_data = (validateEvents, validateEvents))\n",
        "\n",
        "    if modelOutputPath != '0':\n",
        "        import time\n",
        "        path = modelOutputPath + time.strftime(\"autoencoder_%d-%m-%Y_%H-%M-%S\")\n",
        "        autoencoder.save(path)\n",
        "        f = open(path + '/history.pckl', 'wb')\n",
        "        pickle.dump(history.history, f)\n",
        "        f.close()\n",
        "\n",
        "    return [history, autoencoder]"
      ],
      "execution_count": 8,
      "outputs": []
    },
    {
      "cell_type": "markdown",
      "metadata": {
        "id": "Pcu9EVd68pFs"
      },
      "source": [
        "## Load trained network (instead)"
      ]
    },
    {
      "cell_type": "code",
      "metadata": {
        "id": "YrJ6ow-l8pFt"
      },
      "source": [
        "import numpy as np\n",
        "import keras\n",
        "\n",
        "def loadTrainedModel(loadedModelPath):\n",
        "    f = open('history.pckl', 'rb')\n",
        "    history = pickle.load(f)\n",
        "    f.close()\n",
        "    return [keras.models.load_model(loadedModelPath), history]"
      ],
      "execution_count": 5,
      "outputs": []
    },
    {
      "cell_type": "markdown",
      "metadata": {
        "id": "zuU--YNv8pFu"
      },
      "source": [
        "## Plot results"
      ]
    },
    {
      "cell_type": "code",
      "metadata": {
        "id": "EMWjfUlp8pFv"
      },
      "source": [
        "import tensorflow as tf\n",
        "import matplotlib.pyplot as plt\n",
        "\n",
        "def plotResults(autoencoder, validateEvents, singleInputShape, history, shownEventNumber):\n",
        "    encodedEvents = autoencoder.predict(validateEvents)\n",
        "    plotLossAccuracy(history)\n",
        "    calculateThresholds(encodedEvents, validateEvents, singleInputShape)\n",
        "    showReconstructedEvents(shownEventNumber, validateEvents, encodedEvents)\n",
        "\n",
        "def plotLossAccuracy(history):\n",
        "    plt.plot(history.history['loss'], label='train')\n",
        "    plt.plot(history.history['val_loss'], label='validation')\n",
        "    plt.title(\"cost function\")\n",
        "    plt.xlabel(\"epoch\")\n",
        "    plt.ylabel(\"cost\")\n",
        "    plt.legend()\n",
        "    plt.show()\n",
        "\n",
        "    plt.plot(history.history['accuracy'])\n",
        "    plt.plot(history.history['val_accuracy'])\n",
        "    plt.title('model accuracy')\n",
        "    plt.ylabel('accuracy')\n",
        "    plt.xlabel('epoch')\n",
        "    plt.legend(['train', 'validation'], loc='upper left')\n",
        "    plt.show()\n",
        "\n",
        "def calculateThresholds(encodedEvents, validateEvents, singleInputShape):\n",
        "\n",
        "    flatLength = singleInputShape[\"x\"] * singleInputShape[\"y\"] * singleInputShape[\"channels\"]\n",
        "    encodedEventsFlat = np.reshape(encodedEvents, [len(encodedEvents), flatLength])\n",
        "\n",
        "    # TODO repair reconstruction error, maybe change reshaping\n",
        "\n",
        "    validateEventsFlat = np.reshape(validateEvents, [len(encodedEvents), flatLength])\n",
        "    reconstructionErrors = tf.keras.losses.mse(encodedEventsFlat, validateEventsFlat)\n",
        "    encodedEventsFlat = None\n",
        "    validateEventsFlat = None\n",
        "\n",
        "    anomalyThreshold = np.mean(reconstructionErrors.numpy()) + np.std(reconstructionErrors.numpy())\n",
        "    print(\"Reconstruction error threshold: \", anomalyThreshold)\n",
        "\n",
        "    # Train MAE loss.\n",
        "    plt.axvline(anomalyThreshold, color='k', linestyle='dashed', linewidth=1)\n",
        "    plt.hist(reconstructionErrors, bins=100)\n",
        "    plt.xlabel(\"MSE loss\")\n",
        "    plt.ylabel(\"Number of samples\")\n",
        "    plt.show()\n",
        "\n",
        "    # Train MAE loss in logarithmic scale\n",
        "    plt.axvline(anomalyThreshold, color='k', linestyle='dashed', linewidth=1)\n",
        "    plt.hist(reconstructionErrors, bins=500)\n",
        "    plt.xlabel(\"MSE loss\")\n",
        "    plt.ylabel(\"Number of samples (log)\")\n",
        "    plt.yscale(\"log\")  \n",
        "    plt.show()\n",
        "\n",
        "\n",
        "\n",
        "def showReconstructedEvents(eventNumber, validateEvents, encodedEvents):\n",
        "\n",
        "  n = 4 \n",
        "  plt.figure(figsize=(20, 4), dpi=200)\n",
        "\n",
        "  for i in range(0, n):\n",
        "\n",
        "    # Display original\n",
        "    ax = plt.subplot(2, n, i + 1)\n",
        "    img = np.zeros((80,336))\n",
        "    for l,px in enumerate(validateEvents[i + eventNumber * 4]):\n",
        "        for k,py in enumerate(px):\n",
        "            img[k][l] = py[0]\n",
        "    plt.imshow(img)\n",
        "    plt.gray()\n",
        "    ax.get_xaxis().set_visible(False)\n",
        "    ax.get_yaxis().set_visible(False)\n",
        "\n",
        "    # Display reconstruction\n",
        "    ax = plt.subplot(2, n, i + 1 + n)\n",
        "    dec_img=np.zeros((80,336))\n",
        "    for l,px in enumerate(encodedEvents[i + eventNumber*4]):\n",
        "        for k,py in enumerate(px):\n",
        "            dec_img[k][l]=py[0]\n",
        "\n",
        "\n",
        "    plt.imshow(dec_img)\n",
        "    plt.gray()\n",
        "    ax.get_xaxis().set_visible(False)\n",
        "    ax.get_yaxis().set_visible(False)\n",
        "\n",
        "\n",
        "\n",
        "  if error_values[eventNumber] < threshold:\n",
        "      plt.text(-580, -40, 'Reconstruction error: ' + str(error_values[eventNumber]), fontsize = 12)\n",
        "  else:\n",
        "      plt.text(-580, -40, 'Reconstruction error: ' + str(error_values[eventNumber]), fontsize = 12, color='r')\n",
        "  plt.show()"
      ],
      "execution_count": 18,
      "outputs": []
    },
    {
      "cell_type": "markdown",
      "metadata": {
        "id": "gcAOFsTl8pFw"
      },
      "source": [
        "# RUN CODE"
      ]
    },
    {
      "cell_type": "markdown",
      "metadata": {
        "id": "eSi86Ud98pFx"
      },
      "source": [
        "## Load and prepare data"
      ]
    },
    {
      "cell_type": "code",
      "metadata": {
        "id": "Lw3ghJc58pFx"
      },
      "source": [
        "inputDataPath = \"drive/MyDrive/AFP/input-data/331020_centr_trigger_all_2866.npy\"\n",
        "validateFraction = 0.1\n",
        "\n",
        "trainEvents, validateEvents = prepareData(inputDataPath, validateFraction)"
      ],
      "execution_count": 5,
      "outputs": []
    },
    {
      "cell_type": "markdown",
      "metadata": {
        "id": "91V8FxNO8pFy"
      },
      "source": [
        "## Run and train network"
      ]
    },
    {
      "cell_type": "code",
      "metadata": {
        "id": "X051vjx98pFy",
        "outputId": "e37614f9-829d-44c2-b5c3-ffece341d603",
        "colab": {
          "base_uri": "https://localhost:8080/"
        }
      },
      "source": [
        "outputModelPath = \"drive/MyDrive/AFP/trained-models\"     # '0': don't save; save with default name\n",
        "parameters = {\"epochs\" : 20, \n",
        "              \"batchSize\" : 50}\n",
        "singleInputShape = {\"x\" : 336, \"y\" : 80, \"channels\" : 4}\n",
        "\n",
        "history, autoencoder = trainNeuralNetwork(outputModelPath, trainEvents, validateEvents, singleInputShape, parameters)"
      ],
      "execution_count": 9,
      "outputs": [
        {
          "output_type": "stream",
          "text": [
            "Model: \"autoencoder\"\n",
            "_________________________________________________________________\n",
            "Layer (type)                 Output Shape              Param #   \n",
            "=================================================================\n",
            "input_2 (InputLayer)         [(None, 336, 80, 4)]      0         \n",
            "_________________________________________________________________\n",
            "conv2d_6 (Conv2D)            (None, 336, 80, 16)       784       \n",
            "_________________________________________________________________\n",
            "max_pooling2d_2 (MaxPooling2 (None, 84, 20, 16)        0         \n",
            "_________________________________________________________________\n",
            "conv2d_7 (Conv2D)            (None, 84, 20, 32)        6176      \n",
            "_________________________________________________________________\n",
            "max_pooling2d_3 (MaxPooling2 (None, 21, 5, 32)         0         \n",
            "_________________________________________________________________\n",
            "conv2d_8 (Conv2D)            (None, 21, 5, 64)         24640     \n",
            "_________________________________________________________________\n",
            "conv2d_9 (Conv2D)            (None, 21, 5, 64)         65600     \n",
            "_________________________________________________________________\n",
            "up_sampling2d_2 (UpSampling2 (None, 84, 20, 64)        0         \n",
            "_________________________________________________________________\n",
            "conv2d_10 (Conv2D)           (None, 84, 20, 32)        24608     \n",
            "_________________________________________________________________\n",
            "up_sampling2d_3 (UpSampling2 (None, 336, 80, 32)       0         \n",
            "_________________________________________________________________\n",
            "conv2d_11 (Conv2D)           (None, 336, 80, 4)        1540      \n",
            "=================================================================\n",
            "Total params: 123,348\n",
            "Trainable params: 123,348\n",
            "Non-trainable params: 0\n",
            "_________________________________________________________________\n",
            "Epoch 1/20\n",
            "52/52 [==============================] - 7s 119ms/step - loss: 0.2838 - accuracy: 0.0152 - val_loss: 0.0203 - val_accuracy: 8.2730e-05\n",
            "Epoch 2/20\n",
            "52/52 [==============================] - 5s 102ms/step - loss: 0.0183 - accuracy: 0.0066 - val_loss: 0.0133 - val_accuracy: 0.1457\n",
            "Epoch 3/20\n",
            "52/52 [==============================] - 5s 103ms/step - loss: 0.0128 - accuracy: 0.0670 - val_loss: 0.0108 - val_accuracy: 0.0078\n",
            "Epoch 4/20\n",
            "52/52 [==============================] - 5s 104ms/step - loss: 0.0105 - accuracy: 0.0229 - val_loss: 0.0092 - val_accuracy: 0.0432\n",
            "Epoch 5/20\n",
            "52/52 [==============================] - 5s 104ms/step - loss: 0.0089 - accuracy: 0.0249 - val_loss: 0.0078 - val_accuracy: 0.0150\n",
            "Epoch 6/20\n",
            "52/52 [==============================] - 5s 105ms/step - loss: 0.0075 - accuracy: 0.0284 - val_loss: 0.0067 - val_accuracy: 0.0439\n",
            "Epoch 7/20\n",
            "52/52 [==============================] - 5s 103ms/step - loss: 0.0065 - accuracy: 0.0840 - val_loss: 0.0059 - val_accuracy: 0.1066\n",
            "Epoch 8/20\n",
            "52/52 [==============================] - 5s 104ms/step - loss: 0.0056 - accuracy: 0.1022 - val_loss: 0.0051 - val_accuracy: 0.0598\n",
            "Epoch 9/20\n",
            "52/52 [==============================] - 5s 103ms/step - loss: 0.0050 - accuracy: 0.0669 - val_loss: 0.0045 - val_accuracy: 0.0710\n",
            "Epoch 10/20\n",
            "52/52 [==============================] - 5s 105ms/step - loss: 0.0044 - accuracy: 0.0474 - val_loss: 0.0040 - val_accuracy: 0.0389\n",
            "Epoch 11/20\n",
            "52/52 [==============================] - 5s 104ms/step - loss: 0.0039 - accuracy: 0.0221 - val_loss: 0.0035 - val_accuracy: 0.0148\n",
            "Epoch 12/20\n",
            "52/52 [==============================] - 5s 104ms/step - loss: 0.0034 - accuracy: 0.0090 - val_loss: 0.0032 - val_accuracy: 0.0057\n",
            "Epoch 13/20\n",
            "52/52 [==============================] - 5s 105ms/step - loss: 0.0030 - accuracy: 0.0043 - val_loss: 0.0028 - val_accuracy: 0.0020\n",
            "Epoch 14/20\n",
            "52/52 [==============================] - 5s 103ms/step - loss: 0.0027 - accuracy: 0.0023 - val_loss: 0.0026 - val_accuracy: 1.3957e-04\n",
            "Epoch 15/20\n",
            "52/52 [==============================] - 5s 104ms/step - loss: 0.0024 - accuracy: 1.2536e-04 - val_loss: 0.0023 - val_accuracy: 8.3640e-05\n",
            "Epoch 16/20\n",
            "52/52 [==============================] - 5s 106ms/step - loss: 0.0022 - accuracy: 9.9844e-05 - val_loss: 0.0021 - val_accuracy: 8.3640e-05\n",
            "Epoch 17/20\n",
            "52/52 [==============================] - 5s 105ms/step - loss: 0.0020 - accuracy: 9.8371e-05 - val_loss: 0.0019 - val_accuracy: 8.3640e-05\n",
            "Epoch 18/20\n",
            "52/52 [==============================] - 5s 105ms/step - loss: 0.0018 - accuracy: 9.4289e-05 - val_loss: 0.0017 - val_accuracy: 8.3640e-05\n",
            "Epoch 19/20\n",
            "52/52 [==============================] - 5s 105ms/step - loss: 0.0017 - accuracy: 9.9654e-05 - val_loss: 0.0016 - val_accuracy: 1.1161e-04\n",
            "Epoch 20/20\n",
            "52/52 [==============================] - 5s 104ms/step - loss: 0.0015 - accuracy: 1.2523e-04 - val_loss: 0.0015 - val_accuracy: 1.2006e-04\n",
            "INFO:tensorflow:Assets written to: drive/MyDrive/AFP/trained-modelsautoencoder_13-08-2021_11-15-33/assets\n"
          ],
          "name": "stdout"
        }
      ]
    },
    {
      "cell_type": "markdown",
      "metadata": {
        "id": "VQX4qj9Y8pFz"
      },
      "source": [
        "## Load trained model instead"
      ]
    },
    {
      "cell_type": "code",
      "metadata": {
        "id": "d3GdoNGA8pF0",
        "outputId": "a653d129-a809-4d23-c0e8-1fe8b07d1b86"
      },
      "source": [
        "loadedModelPath = \"trained-models/autoencoder_04-08-2021_11-14-36\"\n",
        "\n",
        "autoencoder, history = loadTrainedModel(loadedModelPath)"
      ],
      "execution_count": null,
      "outputs": [
        {
          "output_type": "error",
          "ename": "FileNotFoundError",
          "evalue": "[Errno 2] No such file or directory: 'history.pckl'",
          "traceback": [
            "\u001b[0;31m---------------------------------------------------------------------------\u001b[0m",
            "\u001b[0;31mFileNotFoundError\u001b[0m                         Traceback (most recent call last)",
            "\u001b[0;32m<ipython-input-13-f7b869b3cf91>\u001b[0m in \u001b[0;36m<module>\u001b[0;34m\u001b[0m\n\u001b[1;32m      1\u001b[0m \u001b[0mloadedModelPath\u001b[0m \u001b[0;34m=\u001b[0m \u001b[0;34m\"trained-models/autoencoder_04-08-2021_11-14-36\"\u001b[0m\u001b[0;34m\u001b[0m\u001b[0;34m\u001b[0m\u001b[0m\n\u001b[1;32m      2\u001b[0m \u001b[0;34m\u001b[0m\u001b[0m\n\u001b[0;32m----> 3\u001b[0;31m \u001b[0mautoencoder\u001b[0m\u001b[0;34m,\u001b[0m \u001b[0mhistory\u001b[0m \u001b[0;34m=\u001b[0m \u001b[0mloadTrainedModel\u001b[0m\u001b[0;34m(\u001b[0m\u001b[0mloadedModelPath\u001b[0m\u001b[0;34m)\u001b[0m\u001b[0;34m\u001b[0m\u001b[0;34m\u001b[0m\u001b[0m\n\u001b[0m",
            "\u001b[0;32m<ipython-input-9-f7e01fe036d5>\u001b[0m in \u001b[0;36mloadTrainedModel\u001b[0;34m(loadedModelPath)\u001b[0m\n\u001b[1;32m      3\u001b[0m \u001b[0;34m\u001b[0m\u001b[0m\n\u001b[1;32m      4\u001b[0m \u001b[0;32mdef\u001b[0m \u001b[0mloadTrainedModel\u001b[0m\u001b[0;34m(\u001b[0m\u001b[0mloadedModelPath\u001b[0m\u001b[0;34m)\u001b[0m\u001b[0;34m:\u001b[0m\u001b[0;34m\u001b[0m\u001b[0;34m\u001b[0m\u001b[0m\n\u001b[0;32m----> 5\u001b[0;31m     \u001b[0mf\u001b[0m \u001b[0;34m=\u001b[0m \u001b[0mopen\u001b[0m\u001b[0;34m(\u001b[0m\u001b[0;34m'history.pckl'\u001b[0m\u001b[0;34m,\u001b[0m \u001b[0;34m'rb'\u001b[0m\u001b[0;34m)\u001b[0m\u001b[0;34m\u001b[0m\u001b[0;34m\u001b[0m\u001b[0m\n\u001b[0m\u001b[1;32m      6\u001b[0m     \u001b[0mhistory\u001b[0m \u001b[0;34m=\u001b[0m \u001b[0mpickle\u001b[0m\u001b[0;34m.\u001b[0m\u001b[0mload\u001b[0m\u001b[0;34m(\u001b[0m\u001b[0mf\u001b[0m\u001b[0;34m)\u001b[0m\u001b[0;34m\u001b[0m\u001b[0;34m\u001b[0m\u001b[0m\n\u001b[1;32m      7\u001b[0m     \u001b[0mf\u001b[0m\u001b[0;34m.\u001b[0m\u001b[0mclose\u001b[0m\u001b[0;34m(\u001b[0m\u001b[0;34m)\u001b[0m\u001b[0;34m\u001b[0m\u001b[0;34m\u001b[0m\u001b[0m\n",
            "\u001b[0;31mFileNotFoundError\u001b[0m: [Errno 2] No such file or directory: 'history.pckl'"
          ]
        }
      ]
    },
    {
      "cell_type": "markdown",
      "metadata": {
        "id": "Zzxs7FnT8pF0"
      },
      "source": [
        "## Calculate results"
      ]
    },
    {
      "cell_type": "code",
      "metadata": {
        "id": "EoAxdkP48pF0",
        "outputId": "e071b757-5ad4-41f4-979a-18babd630ada",
        "colab": {
          "base_uri": "https://localhost:8080/",
          "height": 1000
        }
      },
      "source": [
        "singleInputShape = {\"x\": 336, \"y\": 80, \"channels\": 4}\n",
        "shownEventNumber = 0\n",
        "\n",
        "plotResults(autoencoder, validateEvents, singleInputShape, history, shownEventNumber)"
      ],
      "execution_count": 19,
      "outputs": [
        {
          "output_type": "display_data",
          "data": {
            "image/png": "[encoded data removed]",
            "text/plain": [
              "<Figure size 432x288 with 1 Axes>"
            ]
          },
          "metadata": {
            "tags": [],
            "needs_background": "light"
          }
        },
        {
          "output_type": "display_data",
          "data": {
            "image/png": "[encoded data removed]",
            "text/plain": [
              "<Figure size 432x288 with 1 Axes>"
            ]
          },
          "metadata": {
            "tags": [],
            "needs_background": "light"
          }
        },
        {
          "output_type": "stream",
          "text": [
            "Reconstruction error threshold:  8.744e-05\n"
          ],
          "name": "stdout"
        },
        {
          "output_type": "display_data",
          "data": {
            "image/png": "[encoded data removed]",
            "text/plain": [
              "<Figure size 432x288 with 1 Axes>"
            ]
          },
          "metadata": {
            "tags": [],
            "needs_background": "light"
          }
        },
        {
          "output_type": "display_data",
          "data": {
            "image/png": "[encoded data removed]",
            "text/plain": [
              "<Figure size 432x288 with 1 Axes>"
            ]
          },
          "metadata": {
            "tags": [],
            "needs_background": "light"
          }
        },
        {
          "output_type": "error",
          "ename": "NameError",
          "evalue": "ignored",
          "traceback": [
            "\u001b[0;31m---------------------------------------------------------------------------\u001b[0m",
            "\u001b[0;31mNameError\u001b[0m                                 Traceback (most recent call last)",
            "\u001b[0;32m<ipython-input-19-0511e4a07976>\u001b[0m in \u001b[0;36m<module>\u001b[0;34m()\u001b[0m\n\u001b[1;32m      2\u001b[0m \u001b[0mshownEventNumber\u001b[0m \u001b[0;34m=\u001b[0m \u001b[0;36m0\u001b[0m\u001b[0;34m\u001b[0m\u001b[0;34m\u001b[0m\u001b[0m\n\u001b[1;32m      3\u001b[0m \u001b[0;34m\u001b[0m\u001b[0m\n\u001b[0;32m----> 4\u001b[0;31m \u001b[0mplotResults\u001b[0m\u001b[0;34m(\u001b[0m\u001b[0mautoencoder\u001b[0m\u001b[0;34m,\u001b[0m \u001b[0mvalidateEvents\u001b[0m\u001b[0;34m,\u001b[0m \u001b[0msingleInputShape\u001b[0m\u001b[0;34m,\u001b[0m \u001b[0mhistory\u001b[0m\u001b[0;34m,\u001b[0m \u001b[0mshownEventNumber\u001b[0m\u001b[0;34m)\u001b[0m\u001b[0;34m\u001b[0m\u001b[0;34m\u001b[0m\u001b[0m\n\u001b[0m",
            "\u001b[0;32m<ipython-input-18-17cf70f1780c>\u001b[0m in \u001b[0;36mplotResults\u001b[0;34m(autoencoder, validateEvents, singleInputShape, history, shownEventNumber)\u001b[0m\n\u001b[1;32m      6\u001b[0m     \u001b[0mplotLossAccuracy\u001b[0m\u001b[0;34m(\u001b[0m\u001b[0mhistory\u001b[0m\u001b[0;34m)\u001b[0m\u001b[0;34m\u001b[0m\u001b[0;34m\u001b[0m\u001b[0m\n\u001b[1;32m      7\u001b[0m     \u001b[0mcalculateThresholds\u001b[0m\u001b[0;34m(\u001b[0m\u001b[0mencodedEvents\u001b[0m\u001b[0;34m,\u001b[0m \u001b[0mvalidateEvents\u001b[0m\u001b[0;34m,\u001b[0m \u001b[0msingleInputShape\u001b[0m\u001b[0;34m)\u001b[0m\u001b[0;34m\u001b[0m\u001b[0;34m\u001b[0m\u001b[0m\n\u001b[0;32m----> 8\u001b[0;31m     \u001b[0mshowReconstructedEvents\u001b[0m\u001b[0;34m(\u001b[0m\u001b[0mshownEventNumber\u001b[0m\u001b[0;34m,\u001b[0m \u001b[0mvalidateEvents\u001b[0m\u001b[0;34m,\u001b[0m \u001b[0mencodedEvents\u001b[0m\u001b[0;34m)\u001b[0m\u001b[0;34m\u001b[0m\u001b[0;34m\u001b[0m\u001b[0m\n\u001b[0m\u001b[1;32m      9\u001b[0m \u001b[0;34m\u001b[0m\u001b[0m\n\u001b[1;32m     10\u001b[0m \u001b[0;32mdef\u001b[0m \u001b[0mplotLossAccuracy\u001b[0m\u001b[0;34m(\u001b[0m\u001b[0mhistory\u001b[0m\u001b[0;34m)\u001b[0m\u001b[0;34m:\u001b[0m\u001b[0;34m\u001b[0m\u001b[0;34m\u001b[0m\u001b[0m\n",
            "\u001b[0;32m<ipython-input-18-17cf70f1780c>\u001b[0m in \u001b[0;36mshowReconstructedEvents\u001b[0;34m(eventNumber, validateEvents, encodedEvents)\u001b[0m\n\u001b[1;32m     90\u001b[0m \u001b[0;34m\u001b[0m\u001b[0m\n\u001b[1;32m     91\u001b[0m \u001b[0;34m\u001b[0m\u001b[0m\n\u001b[0;32m---> 92\u001b[0;31m   \u001b[0;32mif\u001b[0m \u001b[0merror_values\u001b[0m\u001b[0;34m[\u001b[0m\u001b[0meventNumber\u001b[0m\u001b[0;34m]\u001b[0m \u001b[0;34m<\u001b[0m \u001b[0mthreshold\u001b[0m\u001b[0;34m:\u001b[0m\u001b[0;34m\u001b[0m\u001b[0;34m\u001b[0m\u001b[0m\n\u001b[0m\u001b[1;32m     93\u001b[0m       \u001b[0mplt\u001b[0m\u001b[0;34m.\u001b[0m\u001b[0mtext\u001b[0m\u001b[0;34m(\u001b[0m\u001b[0;34m-\u001b[0m\u001b[0;36m580\u001b[0m\u001b[0;34m,\u001b[0m \u001b[0;34m-\u001b[0m\u001b[0;36m40\u001b[0m\u001b[0;34m,\u001b[0m \u001b[0;34m'Reconstruction error: '\u001b[0m \u001b[0;34m+\u001b[0m \u001b[0mstr\u001b[0m\u001b[0;34m(\u001b[0m\u001b[0merror_values\u001b[0m\u001b[0;34m[\u001b[0m\u001b[0meventNumber\u001b[0m\u001b[0;34m]\u001b[0m\u001b[0;34m)\u001b[0m\u001b[0;34m,\u001b[0m \u001b[0mfontsize\u001b[0m \u001b[0;34m=\u001b[0m \u001b[0;36m12\u001b[0m\u001b[0;34m)\u001b[0m\u001b[0;34m\u001b[0m\u001b[0;34m\u001b[0m\u001b[0m\n\u001b[1;32m     94\u001b[0m   \u001b[0;32melse\u001b[0m\u001b[0;34m:\u001b[0m\u001b[0;34m\u001b[0m\u001b[0;34m\u001b[0m\u001b[0m\n",
            "\u001b[0;31mNameError\u001b[0m: name 'error_values' is not defined"
          ]
        },
        {
          "output_type": "display_data",
          "data": {
            "image/png": "[encoded data removed]",
            "text/plain": [
              "<Figure size 4000x800 with 8 Axes>"
            ]
          },
          "metadata": {
            "tags": [],
            "needs_background": "light"
          }
        }
      ]
    }
  ]
}